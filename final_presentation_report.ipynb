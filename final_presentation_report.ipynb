{
 "cells": [
  {
   "cell_type": "code",
   "execution_count": 192,
   "metadata": {},
   "outputs": [],
   "source": [
    "import os\n",
    "import pandas as pd\n",
    "import numpy as np\n",
    "import matplotlib.pyplot as plt\n",
    "import seaborn as sns\n",
    "from pathlib import Path\n",
    "\n",
    "\n",
    "import pickle\n",
    "from sklearn.model_selection import train_test_split\n",
    "from sklearn.neighbors import KNeighborsClassifier\n",
    "from sklearn.preprocessing import scale,StandardScaler\n",
    "from sklearn.pipeline import Pipeline\n",
    "from sklearn.model_selection import cross_val_score\n",
    "from sklearn.model_selection import GridSearchCV\n",
    "from sklearn.metrics import accuracy_score, classification_report, confusion_matrix, plot_confusion_matrix\n",
    "from sklearn import metrics"
   ]
  },
  {
   "attachments": {},
   "cell_type": "markdown",
   "metadata": {},
   "source": [
    "## Data Preprocessing"
   ]
  },
  {
   "cell_type": "code",
   "execution_count": 193,
   "metadata": {},
   "outputs": [
    {
     "name": "stdout",
     "output_type": "stream",
     "text": [
      "   subject_id   hadm_id  length_stay insurance marital_status   race  \\\n",
      "0    19989918  20256395    10.000000     Other        MARRIED  WHITE   \n",
      "1    11366266  23068302    12.765278  Medicare        WIDOWED  WHITE   \n",
      "2    11681010  20373636     2.250694  Medicaid        MARRIED  ASIAN   \n",
      "3    14677796  24989222    18.259028     Other        MARRIED  WHITE   \n",
      "4    11711020  23493168    12.111806     Other         SINGLE  WHITE   \n",
      "\n",
      "   hospital_expire_flag                                           icd_code  \\\n",
      "0                     0  ['9962', '3453', '34551', '53081', '2724', '27...   \n",
      "1                     0  ['A419', 'J810', 'I959', 'J439', 'I340', 'K572...   \n",
      "2                     1  ['0389', '78552', '51881', '5845', '34982', '4...   \n",
      "3                     1  ['I63411', 'I130', 'I5033', 'N182', 'J9691', '...   \n",
      "4                     1  ['C9202', 'J9691', 'A4151', 'R6521', 'K7200', ...   \n",
      "\n",
      "                                         icd_version gender  anchor_age  \\\n",
      "0  [9, 9, 9, 9, 9, 9, 9, 9, 9, 9, 9, 9, 0, 0, 0, ...      M          50   \n",
      "1  [10, 10, 10, 10, 10, 10, 10, 10, 10, 10, 10, 1...      F          69   \n",
      "2  [9, 9, 9, 9, 9, 9, 9, 9, 9, 9, 9, 9, 9, 9, 9, ...      M          83   \n",
      "3  [10, 10, 10, 10, 10, 10, 10, 10, 10, 10, 10, 1...      F          83   \n",
      "4  [10, 10, 10, 10, 10, 10, 10, 10, 10, 10, 10, 1...      M          71   \n",
      "\n",
      "   num_procedures  avg_patient_weight   avg_temp  avg_heartrate  avg_resprate  \\\n",
      "0              12               124.4  98.040000      60.200000     16.400000   \n",
      "1              15                70.8  98.136667      75.466667     17.133333   \n",
      "2              35                55.0  98.118182      88.090909     18.181818   \n",
      "3              38                61.0  97.800000      79.000000     17.000000   \n",
      "4              37               107.0  98.066667     104.666667     23.333333   \n",
      "\n",
      "   avg_o2sat     avg_sbp    avg_dbp  num_icd  \n",
      "0  95.800000  136.600000  72.000000     12.0  \n",
      "1  98.633333  115.733333  62.500000     15.0  \n",
      "2  99.000000  108.909091  57.727273     35.0  \n",
      "3  96.500000  114.500000  80.500000     38.0  \n",
      "4  89.333333  132.333333  71.000000     37.0  \n"
     ]
    },
    {
     "data": {
      "text/plain": [
       "(6694, 20)"
      ]
     },
     "execution_count": 193,
     "metadata": {},
     "output_type": "execute_result"
    }
   ],
   "source": [
    "ex_data = pd.read_csv('data/balanced_dataset.csv')\n",
    "print(ex_data.head())\n",
    "ex_data.shape"
   ]
  },
  {
   "cell_type": "code",
   "execution_count": 194,
   "metadata": {},
   "outputs": [
    {
     "name": "stdout",
     "output_type": "stream",
     "text": [
      "0    3347\n",
      "1    3347\n",
      "Name: hospital_expire_flag, dtype: int64\n",
      "0       0\n",
      "1       0\n",
      "2       1\n",
      "3       1\n",
      "4       1\n",
      "       ..\n",
      "6689    1\n",
      "6690    1\n",
      "6691    1\n",
      "6692    1\n",
      "6693    0\n",
      "Name: hospital_expire_flag, Length: 6694, dtype: int64\n"
     ]
    }
   ],
   "source": [
    "print(ex_data.hospital_expire_flag.value_counts())\n",
    "print(ex_data['hospital_expire_flag'])"
   ]
  },
  {
   "cell_type": "code",
   "execution_count": 195,
   "metadata": {},
   "outputs": [],
   "source": [
    "# FIND TOP 20 ICD CODES\n",
    "count = {}\n",
    "for index, row in ex_data.iterrows():\n",
    "    for icd_code in eval(row.icd_code):\n",
    "        \n",
    "        if icd_code == '0':\n",
    "            continue\n",
    "        \n",
    "        if icd_code not in count:\n",
    "            count[icd_code] = 1\n",
    "        else:\n",
    "            count[icd_code] += 1\n"
   ]
  },
  {
   "cell_type": "code",
   "execution_count": 199,
   "metadata": {},
   "outputs": [
    {
     "data": {
      "text/plain": [
       "{'Z66': 1707,\n",
       " 'Z515': 1443,\n",
       " 'E785': 1424,\n",
       " 'Z87891': 1269,\n",
       " 'N179': 1260,\n",
       " '4019': 1229,\n",
       " 'I10': 1183,\n",
       " 'E872': 1067,\n",
       " '2724': 1041,\n",
       " 'V4986': 1041}"
      ]
     },
     "execution_count": 199,
     "metadata": {},
     "output_type": "execute_result"
    }
   ],
   "source": [
    "sorted_count = dict(sorted(count.items(), key=lambda x: x[1], reverse=True)[:10])\n",
    "top_20 = list(sorted_count.keys())\n",
    "sorted_count"
   ]
  },
  {
   "cell_type": "code",
   "execution_count": 115,
   "metadata": {},
   "outputs": [
    {
     "data": {
      "text/html": [
       "<div>\n",
       "<style scoped>\n",
       "    .dataframe tbody tr th:only-of-type {\n",
       "        vertical-align: middle;\n",
       "    }\n",
       "\n",
       "    .dataframe tbody tr th {\n",
       "        vertical-align: top;\n",
       "    }\n",
       "\n",
       "    .dataframe thead th {\n",
       "        text-align: right;\n",
       "    }\n",
       "</style>\n",
       "<table border=\"1\" class=\"dataframe\">\n",
       "  <thead>\n",
       "    <tr style=\"text-align: right;\">\n",
       "      <th></th>\n",
       "      <th>subject_id</th>\n",
       "      <th>hadm_id</th>\n",
       "      <th>length_stay</th>\n",
       "      <th>insurance</th>\n",
       "      <th>marital_status</th>\n",
       "      <th>race</th>\n",
       "      <th>hospital_expire_flag</th>\n",
       "      <th>icd_code</th>\n",
       "      <th>icd_version</th>\n",
       "      <th>gender</th>\n",
       "      <th>...</th>\n",
       "      <th>I2510</th>\n",
       "      <th>4280</th>\n",
       "      <th>42731</th>\n",
       "      <th>5849</th>\n",
       "      <th>R6521</th>\n",
       "      <th>51881</th>\n",
       "      <th>A419</th>\n",
       "      <th>K219</th>\n",
       "      <th>V1582</th>\n",
       "      <th>num_icd</th>\n",
       "    </tr>\n",
       "  </thead>\n",
       "  <tbody>\n",
       "    <tr>\n",
       "      <th>0</th>\n",
       "      <td>19989918</td>\n",
       "      <td>20256395</td>\n",
       "      <td>10.000000</td>\n",
       "      <td>Other</td>\n",
       "      <td>MARRIED</td>\n",
       "      <td>WHITE</td>\n",
       "      <td>0</td>\n",
       "      <td>['9962', '3453', '34551', '53081', '2724', '27...</td>\n",
       "      <td>[9, 9, 9, 9, 9, 9, 9, 9, 9, 9, 9, 9, 0, 0, 0, ...</td>\n",
       "      <td>M</td>\n",
       "      <td>...</td>\n",
       "      <td>0</td>\n",
       "      <td>0</td>\n",
       "      <td>0</td>\n",
       "      <td>0</td>\n",
       "      <td>0</td>\n",
       "      <td>0</td>\n",
       "      <td>0</td>\n",
       "      <td>0</td>\n",
       "      <td>0</td>\n",
       "      <td>12.0</td>\n",
       "    </tr>\n",
       "    <tr>\n",
       "      <th>1</th>\n",
       "      <td>11366266</td>\n",
       "      <td>23068302</td>\n",
       "      <td>12.765278</td>\n",
       "      <td>Medicare</td>\n",
       "      <td>WIDOWED</td>\n",
       "      <td>WHITE</td>\n",
       "      <td>0</td>\n",
       "      <td>['A419', 'J810', 'I959', 'J439', 'I340', 'K572...</td>\n",
       "      <td>[10, 10, 10, 10, 10, 10, 10, 10, 10, 10, 10, 1...</td>\n",
       "      <td>F</td>\n",
       "      <td>...</td>\n",
       "      <td>0</td>\n",
       "      <td>0</td>\n",
       "      <td>0</td>\n",
       "      <td>0</td>\n",
       "      <td>0</td>\n",
       "      <td>0</td>\n",
       "      <td>0</td>\n",
       "      <td>0</td>\n",
       "      <td>0</td>\n",
       "      <td>15.0</td>\n",
       "    </tr>\n",
       "    <tr>\n",
       "      <th>2</th>\n",
       "      <td>11681010</td>\n",
       "      <td>20373636</td>\n",
       "      <td>2.250694</td>\n",
       "      <td>Medicaid</td>\n",
       "      <td>MARRIED</td>\n",
       "      <td>ASIAN</td>\n",
       "      <td>1</td>\n",
       "      <td>['0389', '78552', '51881', '5845', '34982', '4...</td>\n",
       "      <td>[9, 9, 9, 9, 9, 9, 9, 9, 9, 9, 9, 9, 9, 9, 9, ...</td>\n",
       "      <td>M</td>\n",
       "      <td>...</td>\n",
       "      <td>0</td>\n",
       "      <td>0</td>\n",
       "      <td>0</td>\n",
       "      <td>0</td>\n",
       "      <td>0</td>\n",
       "      <td>0</td>\n",
       "      <td>0</td>\n",
       "      <td>0</td>\n",
       "      <td>0</td>\n",
       "      <td>35.0</td>\n",
       "    </tr>\n",
       "    <tr>\n",
       "      <th>3</th>\n",
       "      <td>14677796</td>\n",
       "      <td>24989222</td>\n",
       "      <td>18.259028</td>\n",
       "      <td>Other</td>\n",
       "      <td>MARRIED</td>\n",
       "      <td>WHITE</td>\n",
       "      <td>1</td>\n",
       "      <td>['I63411', 'I130', 'I5033', 'N182', 'J9691', '...</td>\n",
       "      <td>[10, 10, 10, 10, 10, 10, 10, 10, 10, 10, 10, 1...</td>\n",
       "      <td>F</td>\n",
       "      <td>...</td>\n",
       "      <td>0</td>\n",
       "      <td>0</td>\n",
       "      <td>0</td>\n",
       "      <td>0</td>\n",
       "      <td>0</td>\n",
       "      <td>0</td>\n",
       "      <td>0</td>\n",
       "      <td>0</td>\n",
       "      <td>0</td>\n",
       "      <td>38.0</td>\n",
       "    </tr>\n",
       "    <tr>\n",
       "      <th>4</th>\n",
       "      <td>11711020</td>\n",
       "      <td>23493168</td>\n",
       "      <td>12.111806</td>\n",
       "      <td>Other</td>\n",
       "      <td>SINGLE</td>\n",
       "      <td>WHITE</td>\n",
       "      <td>1</td>\n",
       "      <td>['C9202', 'J9691', 'A4151', 'R6521', 'K7200', ...</td>\n",
       "      <td>[10, 10, 10, 10, 10, 10, 10, 10, 10, 10, 10, 1...</td>\n",
       "      <td>M</td>\n",
       "      <td>...</td>\n",
       "      <td>0</td>\n",
       "      <td>0</td>\n",
       "      <td>0</td>\n",
       "      <td>0</td>\n",
       "      <td>0</td>\n",
       "      <td>0</td>\n",
       "      <td>0</td>\n",
       "      <td>0</td>\n",
       "      <td>0</td>\n",
       "      <td>37.0</td>\n",
       "    </tr>\n",
       "  </tbody>\n",
       "</table>\n",
       "<p>5 rows × 40 columns</p>\n",
       "</div>"
      ],
      "text/plain": [
       "   subject_id   hadm_id  length_stay insurance marital_status   race  \\\n",
       "0    19989918  20256395    10.000000     Other        MARRIED  WHITE   \n",
       "1    11366266  23068302    12.765278  Medicare        WIDOWED  WHITE   \n",
       "2    11681010  20373636     2.250694  Medicaid        MARRIED  ASIAN   \n",
       "3    14677796  24989222    18.259028     Other        MARRIED  WHITE   \n",
       "4    11711020  23493168    12.111806     Other         SINGLE  WHITE   \n",
       "\n",
       "   hospital_expire_flag                                           icd_code  \\\n",
       "0                     0  ['9962', '3453', '34551', '53081', '2724', '27...   \n",
       "1                     0  ['A419', 'J810', 'I959', 'J439', 'I340', 'K572...   \n",
       "2                     1  ['0389', '78552', '51881', '5845', '34982', '4...   \n",
       "3                     1  ['I63411', 'I130', 'I5033', 'N182', 'J9691', '...   \n",
       "4                     1  ['C9202', 'J9691', 'A4151', 'R6521', 'K7200', ...   \n",
       "\n",
       "                                         icd_version gender  ...  I2510  4280  \\\n",
       "0  [9, 9, 9, 9, 9, 9, 9, 9, 9, 9, 9, 9, 0, 0, 0, ...      M  ...      0     0   \n",
       "1  [10, 10, 10, 10, 10, 10, 10, 10, 10, 10, 10, 1...      F  ...      0     0   \n",
       "2  [9, 9, 9, 9, 9, 9, 9, 9, 9, 9, 9, 9, 9, 9, 9, ...      M  ...      0     0   \n",
       "3  [10, 10, 10, 10, 10, 10, 10, 10, 10, 10, 10, 1...      F  ...      0     0   \n",
       "4  [10, 10, 10, 10, 10, 10, 10, 10, 10, 10, 10, 1...      M  ...      0     0   \n",
       "\n",
       "   42731  5849  R6521  51881  A419  K219  V1582  num_icd  \n",
       "0      0     0      0      0     0     0      0     12.0  \n",
       "1      0     0      0      0     0     0      0     15.0  \n",
       "2      0     0      0      0     0     0      0     35.0  \n",
       "3      0     0      0      0     0     0      0     38.0  \n",
       "4      0     0      0      0     0     0      0     37.0  \n",
       "\n",
       "[5 rows x 40 columns]"
      ]
     },
     "execution_count": 115,
     "metadata": {},
     "output_type": "execute_result"
    }
   ],
   "source": [
    "count = 0\n",
    "cols = ex_data.shape[1]\n",
    "for icd in top_20:\n",
    "    index = cols + count - 1\n",
    "    ex_data.insert(index, icd, ex_data.shape[0] * 0)\n",
    "    count += 1\n",
    "ex_data.head()"
   ]
  },
  {
   "cell_type": "code",
   "execution_count": 116,
   "metadata": {},
   "outputs": [],
   "source": [
    "for icd in top_20:\n",
    "    for index, row in ex_data.iterrows():\n",
    "        if icd in row.icd_code:\n",
    "            ex_data.at[index, str(icd)] = 1\n",
    "        else:\n",
    "            ex_data.at[index, str(icd)] = 0"
   ]
  },
  {
   "cell_type": "code",
   "execution_count": 117,
   "metadata": {},
   "outputs": [],
   "source": [
    "ex_data.to_csv(\"balanced_binary_dataset.csv\", index=False)"
   ]
  },
  {
   "attachments": {},
   "cell_type": "markdown",
   "metadata": {},
   "source": [
    "## Load Dataset"
   ]
  },
  {
   "cell_type": "code",
   "execution_count": 118,
   "metadata": {},
   "outputs": [],
   "source": [
    "ex_data = pd.read_csv(\"data/balanced_binary_dataset.csv\")"
   ]
  },
  {
   "cell_type": "code",
   "execution_count": 119,
   "metadata": {},
   "outputs": [],
   "source": [
    "# drop unncessary columns from X\n",
    "ex_X = ex_data.drop(['hospital_expire_flag', 'subject_id', 'hadm_id', 'icd_version', 'icd_code'], axis = 1)\n",
    "ex_y = np.array(ex_data['hospital_expire_flag'])\n",
    "\n",
    "# convert categorical data to numerical\n",
    "ex_X = pd.get_dummies(ex_X, \n",
    "                      columns = ['insurance', 'gender', 'marital_status', 'race'], \n",
    "                      dtype=int, \n",
    "                      drop_first=True)"
   ]
  },
  {
   "cell_type": "code",
   "execution_count": 120,
   "metadata": {},
   "outputs": [
    {
     "data": {
      "text/html": [
       "<div>\n",
       "<style scoped>\n",
       "    .dataframe tbody tr th:only-of-type {\n",
       "        vertical-align: middle;\n",
       "    }\n",
       "\n",
       "    .dataframe tbody tr th {\n",
       "        vertical-align: top;\n",
       "    }\n",
       "\n",
       "    .dataframe thead th {\n",
       "        text-align: right;\n",
       "    }\n",
       "</style>\n",
       "<table border=\"1\" class=\"dataframe\">\n",
       "  <thead>\n",
       "    <tr style=\"text-align: right;\">\n",
       "      <th></th>\n",
       "      <th>length_stay</th>\n",
       "      <th>anchor_age</th>\n",
       "      <th>num_procedures</th>\n",
       "      <th>avg_patient_weight</th>\n",
       "      <th>avg_temp</th>\n",
       "      <th>avg_heartrate</th>\n",
       "      <th>avg_resprate</th>\n",
       "      <th>avg_o2sat</th>\n",
       "      <th>avg_sbp</th>\n",
       "      <th>avg_dbp</th>\n",
       "      <th>...</th>\n",
       "      <th>marital_status_WIDOWED</th>\n",
       "      <th>race_ASIAN</th>\n",
       "      <th>race_BLACK/AFRICAN</th>\n",
       "      <th>race_BLACK/AFRICAN AMERICAN</th>\n",
       "      <th>race_BLACK/CAPE VERDEAN</th>\n",
       "      <th>race_BLACK/CARIBBEAN ISLAND</th>\n",
       "      <th>race_HISPANIC/LATINO</th>\n",
       "      <th>race_NATIVE HAWAIIAN OR OTHER PACIFIC ISLANDER</th>\n",
       "      <th>race_OTHER</th>\n",
       "      <th>race_WHITE</th>\n",
       "    </tr>\n",
       "  </thead>\n",
       "  <tbody>\n",
       "    <tr>\n",
       "      <th>0</th>\n",
       "      <td>10.000000</td>\n",
       "      <td>50</td>\n",
       "      <td>12</td>\n",
       "      <td>124.4</td>\n",
       "      <td>98.040000</td>\n",
       "      <td>60.200000</td>\n",
       "      <td>16.400000</td>\n",
       "      <td>95.800000</td>\n",
       "      <td>136.600000</td>\n",
       "      <td>72.000000</td>\n",
       "      <td>...</td>\n",
       "      <td>0</td>\n",
       "      <td>0</td>\n",
       "      <td>0</td>\n",
       "      <td>0</td>\n",
       "      <td>0</td>\n",
       "      <td>0</td>\n",
       "      <td>0</td>\n",
       "      <td>0</td>\n",
       "      <td>0</td>\n",
       "      <td>1</td>\n",
       "    </tr>\n",
       "    <tr>\n",
       "      <th>1</th>\n",
       "      <td>12.765278</td>\n",
       "      <td>69</td>\n",
       "      <td>15</td>\n",
       "      <td>70.8</td>\n",
       "      <td>98.136667</td>\n",
       "      <td>75.466667</td>\n",
       "      <td>17.133333</td>\n",
       "      <td>98.633333</td>\n",
       "      <td>115.733333</td>\n",
       "      <td>62.500000</td>\n",
       "      <td>...</td>\n",
       "      <td>1</td>\n",
       "      <td>0</td>\n",
       "      <td>0</td>\n",
       "      <td>0</td>\n",
       "      <td>0</td>\n",
       "      <td>0</td>\n",
       "      <td>0</td>\n",
       "      <td>0</td>\n",
       "      <td>0</td>\n",
       "      <td>1</td>\n",
       "    </tr>\n",
       "    <tr>\n",
       "      <th>2</th>\n",
       "      <td>2.250694</td>\n",
       "      <td>83</td>\n",
       "      <td>35</td>\n",
       "      <td>55.0</td>\n",
       "      <td>98.118182</td>\n",
       "      <td>88.090909</td>\n",
       "      <td>18.181818</td>\n",
       "      <td>99.000000</td>\n",
       "      <td>108.909091</td>\n",
       "      <td>57.727273</td>\n",
       "      <td>...</td>\n",
       "      <td>0</td>\n",
       "      <td>1</td>\n",
       "      <td>0</td>\n",
       "      <td>0</td>\n",
       "      <td>0</td>\n",
       "      <td>0</td>\n",
       "      <td>0</td>\n",
       "      <td>0</td>\n",
       "      <td>0</td>\n",
       "      <td>0</td>\n",
       "    </tr>\n",
       "    <tr>\n",
       "      <th>3</th>\n",
       "      <td>18.259028</td>\n",
       "      <td>83</td>\n",
       "      <td>38</td>\n",
       "      <td>61.0</td>\n",
       "      <td>97.800000</td>\n",
       "      <td>79.000000</td>\n",
       "      <td>17.000000</td>\n",
       "      <td>96.500000</td>\n",
       "      <td>114.500000</td>\n",
       "      <td>80.500000</td>\n",
       "      <td>...</td>\n",
       "      <td>0</td>\n",
       "      <td>0</td>\n",
       "      <td>0</td>\n",
       "      <td>0</td>\n",
       "      <td>0</td>\n",
       "      <td>0</td>\n",
       "      <td>0</td>\n",
       "      <td>0</td>\n",
       "      <td>0</td>\n",
       "      <td>1</td>\n",
       "    </tr>\n",
       "    <tr>\n",
       "      <th>4</th>\n",
       "      <td>12.111806</td>\n",
       "      <td>71</td>\n",
       "      <td>37</td>\n",
       "      <td>107.0</td>\n",
       "      <td>98.066667</td>\n",
       "      <td>104.666667</td>\n",
       "      <td>23.333333</td>\n",
       "      <td>89.333333</td>\n",
       "      <td>132.333333</td>\n",
       "      <td>71.000000</td>\n",
       "      <td>...</td>\n",
       "      <td>0</td>\n",
       "      <td>0</td>\n",
       "      <td>0</td>\n",
       "      <td>0</td>\n",
       "      <td>0</td>\n",
       "      <td>0</td>\n",
       "      <td>0</td>\n",
       "      <td>0</td>\n",
       "      <td>0</td>\n",
       "      <td>1</td>\n",
       "    </tr>\n",
       "    <tr>\n",
       "      <th>...</th>\n",
       "      <td>...</td>\n",
       "      <td>...</td>\n",
       "      <td>...</td>\n",
       "      <td>...</td>\n",
       "      <td>...</td>\n",
       "      <td>...</td>\n",
       "      <td>...</td>\n",
       "      <td>...</td>\n",
       "      <td>...</td>\n",
       "      <td>...</td>\n",
       "      <td>...</td>\n",
       "      <td>...</td>\n",
       "      <td>...</td>\n",
       "      <td>...</td>\n",
       "      <td>...</td>\n",
       "      <td>...</td>\n",
       "      <td>...</td>\n",
       "      <td>...</td>\n",
       "      <td>...</td>\n",
       "      <td>...</td>\n",
       "      <td>...</td>\n",
       "    </tr>\n",
       "    <tr>\n",
       "      <th>6689</th>\n",
       "      <td>10.468750</td>\n",
       "      <td>56</td>\n",
       "      <td>16</td>\n",
       "      <td>48.8</td>\n",
       "      <td>97.250000</td>\n",
       "      <td>56.500000</td>\n",
       "      <td>14.500000</td>\n",
       "      <td>96.500000</td>\n",
       "      <td>120.500000</td>\n",
       "      <td>74.000000</td>\n",
       "      <td>...</td>\n",
       "      <td>0</td>\n",
       "      <td>0</td>\n",
       "      <td>0</td>\n",
       "      <td>0</td>\n",
       "      <td>0</td>\n",
       "      <td>0</td>\n",
       "      <td>0</td>\n",
       "      <td>0</td>\n",
       "      <td>0</td>\n",
       "      <td>1</td>\n",
       "    </tr>\n",
       "    <tr>\n",
       "      <th>6690</th>\n",
       "      <td>8.887500</td>\n",
       "      <td>91</td>\n",
       "      <td>31</td>\n",
       "      <td>50.0</td>\n",
       "      <td>98.160000</td>\n",
       "      <td>69.200000</td>\n",
       "      <td>16.400000</td>\n",
       "      <td>98.000000</td>\n",
       "      <td>116.000000</td>\n",
       "      <td>60.400000</td>\n",
       "      <td>...</td>\n",
       "      <td>1</td>\n",
       "      <td>0</td>\n",
       "      <td>0</td>\n",
       "      <td>0</td>\n",
       "      <td>0</td>\n",
       "      <td>0</td>\n",
       "      <td>0</td>\n",
       "      <td>0</td>\n",
       "      <td>0</td>\n",
       "      <td>1</td>\n",
       "    </tr>\n",
       "    <tr>\n",
       "      <th>6691</th>\n",
       "      <td>9.054861</td>\n",
       "      <td>83</td>\n",
       "      <td>39</td>\n",
       "      <td>79.2</td>\n",
       "      <td>98.600000</td>\n",
       "      <td>84.000000</td>\n",
       "      <td>18.800000</td>\n",
       "      <td>99.200000</td>\n",
       "      <td>122.800000</td>\n",
       "      <td>71.800000</td>\n",
       "      <td>...</td>\n",
       "      <td>0</td>\n",
       "      <td>0</td>\n",
       "      <td>0</td>\n",
       "      <td>0</td>\n",
       "      <td>0</td>\n",
       "      <td>0</td>\n",
       "      <td>0</td>\n",
       "      <td>0</td>\n",
       "      <td>0</td>\n",
       "      <td>1</td>\n",
       "    </tr>\n",
       "    <tr>\n",
       "      <th>6692</th>\n",
       "      <td>0.714583</td>\n",
       "      <td>91</td>\n",
       "      <td>13</td>\n",
       "      <td>69.1</td>\n",
       "      <td>97.700000</td>\n",
       "      <td>89.000000</td>\n",
       "      <td>22.000000</td>\n",
       "      <td>96.000000</td>\n",
       "      <td>101.000000</td>\n",
       "      <td>63.000000</td>\n",
       "      <td>...</td>\n",
       "      <td>1</td>\n",
       "      <td>0</td>\n",
       "      <td>0</td>\n",
       "      <td>0</td>\n",
       "      <td>0</td>\n",
       "      <td>0</td>\n",
       "      <td>0</td>\n",
       "      <td>0</td>\n",
       "      <td>0</td>\n",
       "      <td>1</td>\n",
       "    </tr>\n",
       "    <tr>\n",
       "      <th>6693</th>\n",
       "      <td>14.517361</td>\n",
       "      <td>69</td>\n",
       "      <td>29</td>\n",
       "      <td>80.5</td>\n",
       "      <td>97.562500</td>\n",
       "      <td>75.250000</td>\n",
       "      <td>16.750000</td>\n",
       "      <td>97.625000</td>\n",
       "      <td>112.250000</td>\n",
       "      <td>72.375000</td>\n",
       "      <td>...</td>\n",
       "      <td>0</td>\n",
       "      <td>0</td>\n",
       "      <td>0</td>\n",
       "      <td>0</td>\n",
       "      <td>0</td>\n",
       "      <td>0</td>\n",
       "      <td>0</td>\n",
       "      <td>0</td>\n",
       "      <td>0</td>\n",
       "      <td>1</td>\n",
       "    </tr>\n",
       "  </tbody>\n",
       "</table>\n",
       "<p>6694 rows × 46 columns</p>\n",
       "</div>"
      ],
      "text/plain": [
       "      length_stay  anchor_age  num_procedures  avg_patient_weight   avg_temp  \\\n",
       "0       10.000000          50              12               124.4  98.040000   \n",
       "1       12.765278          69              15                70.8  98.136667   \n",
       "2        2.250694          83              35                55.0  98.118182   \n",
       "3       18.259028          83              38                61.0  97.800000   \n",
       "4       12.111806          71              37               107.0  98.066667   \n",
       "...           ...         ...             ...                 ...        ...   \n",
       "6689    10.468750          56              16                48.8  97.250000   \n",
       "6690     8.887500          91              31                50.0  98.160000   \n",
       "6691     9.054861          83              39                79.2  98.600000   \n",
       "6692     0.714583          91              13                69.1  97.700000   \n",
       "6693    14.517361          69              29                80.5  97.562500   \n",
       "\n",
       "      avg_heartrate  avg_resprate  avg_o2sat     avg_sbp    avg_dbp  ...  \\\n",
       "0         60.200000     16.400000  95.800000  136.600000  72.000000  ...   \n",
       "1         75.466667     17.133333  98.633333  115.733333  62.500000  ...   \n",
       "2         88.090909     18.181818  99.000000  108.909091  57.727273  ...   \n",
       "3         79.000000     17.000000  96.500000  114.500000  80.500000  ...   \n",
       "4        104.666667     23.333333  89.333333  132.333333  71.000000  ...   \n",
       "...             ...           ...        ...         ...        ...  ...   \n",
       "6689      56.500000     14.500000  96.500000  120.500000  74.000000  ...   \n",
       "6690      69.200000     16.400000  98.000000  116.000000  60.400000  ...   \n",
       "6691      84.000000     18.800000  99.200000  122.800000  71.800000  ...   \n",
       "6692      89.000000     22.000000  96.000000  101.000000  63.000000  ...   \n",
       "6693      75.250000     16.750000  97.625000  112.250000  72.375000  ...   \n",
       "\n",
       "      marital_status_WIDOWED  race_ASIAN  race_BLACK/AFRICAN  \\\n",
       "0                          0           0                   0   \n",
       "1                          1           0                   0   \n",
       "2                          0           1                   0   \n",
       "3                          0           0                   0   \n",
       "4                          0           0                   0   \n",
       "...                      ...         ...                 ...   \n",
       "6689                       0           0                   0   \n",
       "6690                       1           0                   0   \n",
       "6691                       0           0                   0   \n",
       "6692                       1           0                   0   \n",
       "6693                       0           0                   0   \n",
       "\n",
       "      race_BLACK/AFRICAN AMERICAN  race_BLACK/CAPE VERDEAN  \\\n",
       "0                               0                        0   \n",
       "1                               0                        0   \n",
       "2                               0                        0   \n",
       "3                               0                        0   \n",
       "4                               0                        0   \n",
       "...                           ...                      ...   \n",
       "6689                            0                        0   \n",
       "6690                            0                        0   \n",
       "6691                            0                        0   \n",
       "6692                            0                        0   \n",
       "6693                            0                        0   \n",
       "\n",
       "      race_BLACK/CARIBBEAN ISLAND  race_HISPANIC/LATINO  \\\n",
       "0                               0                     0   \n",
       "1                               0                     0   \n",
       "2                               0                     0   \n",
       "3                               0                     0   \n",
       "4                               0                     0   \n",
       "...                           ...                   ...   \n",
       "6689                            0                     0   \n",
       "6690                            0                     0   \n",
       "6691                            0                     0   \n",
       "6692                            0                     0   \n",
       "6693                            0                     0   \n",
       "\n",
       "      race_NATIVE HAWAIIAN OR OTHER PACIFIC ISLANDER  race_OTHER  race_WHITE  \n",
       "0                                                  0           0           1  \n",
       "1                                                  0           0           1  \n",
       "2                                                  0           0           0  \n",
       "3                                                  0           0           1  \n",
       "4                                                  0           0           1  \n",
       "...                                              ...         ...         ...  \n",
       "6689                                               0           0           1  \n",
       "6690                                               0           0           1  \n",
       "6691                                               0           0           1  \n",
       "6692                                               0           0           1  \n",
       "6693                                               0           0           1  \n",
       "\n",
       "[6694 rows x 46 columns]"
      ]
     },
     "execution_count": 120,
     "metadata": {},
     "output_type": "execute_result"
    }
   ],
   "source": [
    "ex_X"
   ]
  },
  {
   "cell_type": "code",
   "execution_count": 121,
   "metadata": {},
   "outputs": [],
   "source": [
    "def get_performance_scores(y_test, y_predict, y_predict_prob, eps=1e-15, beta=0.5):\n",
    "    from sklearn import metrics\n",
    "    # Scores keys.\n",
    "    metric_keys = [\"accuracy\", \"precision\", \"recall\", \"f1\", \"fbeta\", \"log_loss\", \"AUC\"]\n",
    "    # Score values.\n",
    "    metric_values = [None]*len(metric_keys)\n",
    "    metric_values[0] = metrics.accuracy_score(y_test, y_predict)\n",
    "    metric_values[1] = metrics.precision_score(y_test, y_predict)\n",
    "    metric_values[2] = metrics.recall_score(y_test, y_predict)\n",
    "    metric_values[3] = metrics.f1_score(y_test, y_predict)\n",
    "    metric_values[4] = metrics.fbeta_score(y_test, y_predict, beta=beta)\n",
    "    metric_values[5] = metrics.log_loss(y_test, y_predict_prob[:, 1], eps=eps)\n",
    "    metric_values[6] = metrics.roc_auc_score(y_test, y_predict_prob[:, 1])\n",
    "    perf_metrics = dict(zip(metric_keys, metric_values))\n",
    "    return(perf_metrics)"
   ]
  },
  {
   "attachments": {},
   "cell_type": "markdown",
   "metadata": {},
   "source": [
    "## KNN"
   ]
  },
  {
   "cell_type": "code",
   "execution_count": 122,
   "metadata": {},
   "outputs": [],
   "source": [
    "np.random.seed(18)\n",
    "\n",
    "# test dataset = 30%\n",
    "X_train, X_test, Y_train, Y_test = train_test_split(ex_X, ex_y, test_size = 0.3)\n",
    "\n",
    "# using fit_transform and transform to keep the same transformations for the training and\n",
    "# test data\n",
    "scaler = StandardScaler()\n",
    "X_train = scaler.fit_transform(X_train)\n",
    "X_test = scaler.transform(X_test)"
   ]
  },
  {
   "cell_type": "code",
   "execution_count": 123,
   "metadata": {},
   "outputs": [],
   "source": [
    "default = 5\n",
    "kNN = KNeighborsClassifier(n_neighbors = default)\n",
    "\n",
    "# fit classifier \n",
    "kNN.fit(X_train, Y_train)\n",
    "predictions = kNN.predict(X_test)"
   ]
  },
  {
   "cell_type": "code",
   "execution_count": 124,
   "metadata": {},
   "outputs": [
    {
     "name": "stdout",
     "output_type": "stream",
     "text": [
      "[[863 132]\n",
      " [269 745]]\n",
      "0.8003982080637133\n"
     ]
    }
   ],
   "source": [
    "conf_matrix_test = metrics.confusion_matrix(Y_test, predictions)\n",
    "print(conf_matrix_test)\n",
    "\n",
    "test_accuracy_score = metrics.accuracy_score(Y_test, predictions)\n",
    "print(test_accuracy_score)\n",
    "\n",
    "ex_target_names = ex_data['hospital_expire_flag'].unique().tolist()\n",
    "ex_target_names = [str(x) for x in ex_target_names]"
   ]
  },
  {
   "cell_type": "code",
   "execution_count": 125,
   "metadata": {},
   "outputs": [
    {
     "name": "stdout",
     "output_type": "stream",
     "text": [
      "              precision    recall  f1-score   support\n",
      "\n",
      "           0       0.76      0.87      0.81       995\n",
      "           1       0.85      0.73      0.79      1014\n",
      "\n",
      "    accuracy                           0.80      2009\n",
      "   macro avg       0.81      0.80      0.80      2009\n",
      "weighted avg       0.81      0.80      0.80      2009\n",
      "\n",
      "[[0.2 0.8]\n",
      " [0.6 0.4]\n",
      " [0.8 0.2]\n",
      " [1.  0. ]\n",
      " [1.  0. ]\n",
      " [0.8 0.2]\n",
      " [1.  0. ]\n",
      " [0.  1. ]\n",
      " [0.8 0.2]\n",
      " [0.4 0.6]]\n",
      "prob of mortality: [0.8 0.4 0.2 0.  0.  0.2 0.  1.  0.2 0.6]\n"
     ]
    }
   ],
   "source": [
    "class_report = metrics.classification_report(Y_test, \n",
    "                                             predictions, \n",
    "                                             target_names = ex_target_names)\n",
    "\n",
    "print(class_report)\n",
    "\n",
    "# using prob_a to get probabilities instead of predicted values\n",
    "prob = kNN.predict_proba(X_test)\n",
    "print(prob[:10])\n",
    "\n",
    "# get 2nd column of prob for test probabilities\n",
    "test_prob = prob[:, 1]\n",
    "print(\"prob of mortality:\", test_prob[0:10])"
   ]
  },
  {
   "cell_type": "code",
   "execution_count": 126,
   "metadata": {},
   "outputs": [
    {
     "name": "stdout",
     "output_type": "stream",
     "text": [
      "[[1 1]\n",
      " [1 0]\n",
      " [0 0]\n",
      " [0 0]\n",
      " [0 0]\n",
      " [0 0]\n",
      " [0 0]\n",
      " [1 1]\n",
      " [0 0]\n",
      " [1 1]]\n"
     ]
    }
   ],
   "source": [
    "# print vector of predicted values versus actual values\n",
    "\n",
    "# use np.column_stack to print side by side\n",
    "y_hat_vs_y = np.column_stack((Y_test, predictions))\n",
    "print(y_hat_vs_y[:10])"
   ]
  },
  {
   "cell_type": "code",
   "execution_count": 127,
   "metadata": {},
   "outputs": [
    {
     "name": "stdout",
     "output_type": "stream",
     "text": [
      "[[863 132]\n",
      " [269 745]]\n"
     ]
    },
    {
     "name": "stderr",
     "output_type": "stream",
     "text": [
      "c:\\Users\\jupit\\Anaconda3\\envs\\AML\\lib\\site-packages\\sklearn\\utils\\deprecation.py:87: FutureWarning: Function plot_confusion_matrix is deprecated; Function `plot_confusion_matrix` is deprecated in 1.0 and will be removed in 1.2. Use one of the class methods: ConfusionMatrixDisplay.from_predictions or ConfusionMatrixDisplay.from_estimator.\n",
      "  warnings.warn(msg, category=FutureWarning)\n"
     ]
    },
    {
     "data": {
      "image/png": "[encoded data removed]",
      "text/plain": [
       "<Figure size 640x480 with 2 Axes>"
      ]
     },
     "metadata": {},
     "output_type": "display_data"
    }
   ],
   "source": [
    "ex_cm_kNN = confusion_matrix(Y_test, predictions)\n",
    "print(ex_cm_kNN)\n",
    "\n",
    "# create visualization via matplotlib code from lecture \n",
    "plot_confusion_matrix(kNN, X_test, Y_test, cmap=plt.cm.Blues)  \n",
    "classNames = ['Negative', 'Positive']\n",
    "plt.title('Confusion Matrix Test Data')\n",
    "plt.ylabel('True label')\n",
    "plt.xlabel('Predicted label')\n",
    "tick_marks = np.arange(len(classNames))\n",
    "\n",
    "# set ticks for x and y axis\n",
    "plt.xticks(tick_marks, classNames)\n",
    "plt.yticks(tick_marks, classNames)\n",
    "\n",
    "plt.show()"
   ]
  },
  {
   "cell_type": "code",
   "execution_count": 128,
   "metadata": {},
   "outputs": [
    {
     "data": {
      "image/png": "[encoded data removed]",
      "text/plain": [
       "<Figure size 640x480 with 1 Axes>"
      ]
     },
     "metadata": {},
     "output_type": "display_data"
    }
   ],
   "source": [
    "# get fpr, tpr, threshold form .roc_curve with Y_test and predictions as arguments\n",
    "fpr, tpr, threshold = metrics.roc_curve(Y_test, kNN.predict_proba(X_test)[:,1])\n",
    "roc_auc = metrics.auc(fpr, tpr)\n",
    "\n",
    "# roc plotting code from lecture\n",
    "plt.title('ROC Curve')\n",
    "plt.plot(fpr, tpr, 'b', label = 'AUC = %0.2f' % roc_auc)\n",
    "plt.legend(loc = 'lower right')\n",
    "plt.plot([0, 1], 'r--')\n",
    "plt.xlim([0, 1])\n",
    "plt.ylim([0, 1])\n",
    "plt.ylabel('True Positive Rate')\n",
    "plt.xlabel('False Positive Rate')\n",
    "plt.show()"
   ]
  },
  {
   "cell_type": "code",
   "execution_count": 129,
   "metadata": {},
   "outputs": [
    {
     "name": "stdout",
     "output_type": "stream",
     "text": [
      "[0.80447761 0.7880597  0.77910448 0.80149254 0.78923767 0.76382661\n",
      " 0.81315396 0.78624813 0.80119581 0.79671151]\n"
     ]
    },
    {
     "data": {
      "text/plain": [
       "0.7923508020435938"
      ]
     },
     "execution_count": 129,
     "metadata": {},
     "output_type": "execute_result"
    }
   ],
   "source": [
    "pipeline = Pipeline([('transformer', StandardScaler()), ('estimator', kNN)])\n",
    "# get 5 fold cross validation scores\n",
    "cv_scores = cross_val_score(pipeline, ex_X, ex_y, cv = 10)\n",
    "print(cv_scores)\n",
    "\n",
    "mean = np.mean(cv_scores)\n",
    "mean"
   ]
  },
  {
   "cell_type": "code",
   "execution_count": 130,
   "metadata": {},
   "outputs": [
    {
     "data": {
      "text/plain": [
       "{'Vanilla KNN': {'accuracy': 0.8003982080637133,\n",
       "  'precision': 0.8494868871151653,\n",
       "  'recall': 0.7347140039447732,\n",
       "  'f1': 0.7879428873611846,\n",
       "  'fbeta': 0.8237505528527199,\n",
       "  'log_loss': 1.7065391967494796,\n",
       "  'AUC': 0.8647924038337644}}"
      ]
     },
     "execution_count": 130,
     "metadata": {},
     "output_type": "execute_result"
    }
   ],
   "source": [
    "# save into dict\n",
    "knn_scores = get_performance_scores(Y_test, predictions, prob)\n",
    "results = {\"Vanilla KNN\":knn_scores}\n",
    "results"
   ]
  },
  {
   "attachments": {},
   "cell_type": "markdown",
   "metadata": {},
   "source": [
    "## KNN GridSearchCV"
   ]
  },
  {
   "cell_type": "code",
   "execution_count": 131,
   "metadata": {},
   "outputs": [],
   "source": [
    "k_range = list(range(1, 31))\n",
    "\n",
    "# use dict to map param names to values that should be searched\n",
    "param_grid = dict(n_neighbors = k_range)\n",
    "\n",
    "# run gridsearch with 10 fold cv\n",
    "grid = GridSearchCV(kNN, param_grid, cv = 10, scoring = 'f1')"
   ]
  },
  {
   "cell_type": "code",
   "execution_count": 132,
   "metadata": {},
   "outputs": [
    {
     "data": {
      "text/html": [
       "<style>#sk-container-id-4 {color: black;background-color: white;}#sk-container-id-4 pre{padding: 0;}#sk-container-id-4 div.sk-toggleable {background-color: white;}#sk-container-id-4 label.sk-toggleable__label {cursor: pointer;display: block;width: 100%;margin-bottom: 0;padding: 0.3em;box-sizing: border-box;text-align: center;}#sk-container-id-4 label.sk-toggleable__label-arrow:before {content: \"▸\";float: left;margin-right: 0.25em;color: #696969;}#sk-container-id-4 label.sk-toggleable__label-arrow:hover:before {color: black;}#sk-container-id-4 div.sk-estimator:hover label.sk-toggleable__label-arrow:before {color: black;}#sk-container-id-4 div.sk-toggleable__content {max-height: 0;max-width: 0;overflow: hidden;text-align: left;background-color: #f0f8ff;}#sk-container-id-4 div.sk-toggleable__content pre {margin: 0.2em;color: black;border-radius: 0.25em;background-color: #f0f8ff;}#sk-container-id-4 input.sk-toggleable__control:checked~div.sk-toggleable__content {max-height: 200px;max-width: 100%;overflow: auto;}#sk-container-id-4 input.sk-toggleable__control:checked~label.sk-toggleable__label-arrow:before {content: \"▾\";}#sk-container-id-4 div.sk-estimator input.sk-toggleable__control:checked~label.sk-toggleable__label {background-color: #d4ebff;}#sk-container-id-4 div.sk-label input.sk-toggleable__control:checked~label.sk-toggleable__label {background-color: #d4ebff;}#sk-container-id-4 input.sk-hidden--visually {border: 0;clip: rect(1px 1px 1px 1px);clip: rect(1px, 1px, 1px, 1px);height: 1px;margin: -1px;overflow: hidden;padding: 0;position: absolute;width: 1px;}#sk-container-id-4 div.sk-estimator {font-family: monospace;background-color: #f0f8ff;border: 1px dotted black;border-radius: 0.25em;box-sizing: border-box;margin-bottom: 0.5em;}#sk-container-id-4 div.sk-estimator:hover {background-color: #d4ebff;}#sk-container-id-4 div.sk-parallel-item::after {content: \"\";width: 100%;border-bottom: 1px solid gray;flex-grow: 1;}#sk-container-id-4 div.sk-label:hover label.sk-toggleable__label {background-color: #d4ebff;}#sk-container-id-4 div.sk-serial::before {content: \"\";position: absolute;border-left: 1px solid gray;box-sizing: border-box;top: 0;bottom: 0;left: 50%;z-index: 0;}#sk-container-id-4 div.sk-serial {display: flex;flex-direction: column;align-items: center;background-color: white;padding-right: 0.2em;padding-left: 0.2em;position: relative;}#sk-container-id-4 div.sk-item {position: relative;z-index: 1;}#sk-container-id-4 div.sk-parallel {display: flex;align-items: stretch;justify-content: center;background-color: white;position: relative;}#sk-container-id-4 div.sk-item::before, #sk-container-id-4 div.sk-parallel-item::before {content: \"\";position: absolute;border-left: 1px solid gray;box-sizing: border-box;top: 0;bottom: 0;left: 50%;z-index: -1;}#sk-container-id-4 div.sk-parallel-item {display: flex;flex-direction: column;z-index: 1;position: relative;background-color: white;}#sk-container-id-4 div.sk-parallel-item:first-child::after {align-self: flex-end;width: 50%;}#sk-container-id-4 div.sk-parallel-item:last-child::after {align-self: flex-start;width: 50%;}#sk-container-id-4 div.sk-parallel-item:only-child::after {width: 0;}#sk-container-id-4 div.sk-dashed-wrapped {border: 1px dashed gray;margin: 0 0.4em 0.5em 0.4em;box-sizing: border-box;padding-bottom: 0.4em;background-color: white;}#sk-container-id-4 div.sk-label label {font-family: monospace;font-weight: bold;display: inline-block;line-height: 1.2em;}#sk-container-id-4 div.sk-label-container {text-align: center;}#sk-container-id-4 div.sk-container {/* jupyter's `normalize.less` sets `[hidden] { display: none; }` but bootstrap.min.css set `[hidden] { display: none !important; }` so we also need the `!important` here to be able to override the default hidden behavior on the sphinx rendered scikit-learn.org. See: https://github.com/scikit-learn/scikit-learn/issues/21755 */display: inline-block !important;position: relative;}#sk-container-id-4 div.sk-text-repr-fallback {display: none;}</style><div id=\"sk-container-id-4\" class=\"sk-top-container\"><div class=\"sk-text-repr-fallback\"><pre>Pipeline(steps=[(&#x27;transformer&#x27;, StandardScaler()),\n",
       "                (&#x27;estimator&#x27;,\n",
       "                 GridSearchCV(cv=10, estimator=KNeighborsClassifier(),\n",
       "                              param_grid={&#x27;n_neighbors&#x27;: [1, 2, 3, 4, 5, 6, 7,\n",
       "                                                          8, 9, 10, 11, 12, 13,\n",
       "                                                          14, 15, 16, 17, 18,\n",
       "                                                          19, 20, 21, 22, 23,\n",
       "                                                          24, 25, 26, 27, 28,\n",
       "                                                          29, 30]},\n",
       "                              scoring=&#x27;f1&#x27;))])</pre><b>In a Jupyter environment, please rerun this cell to show the HTML representation or trust the notebook. <br />On GitHub, the HTML representation is unable to render, please try loading this page with nbviewer.org.</b></div><div class=\"sk-container\" hidden><div class=\"sk-item sk-dashed-wrapped\"><div class=\"sk-label-container\"><div class=\"sk-label sk-toggleable\"><input class=\"sk-toggleable__control sk-hidden--visually\" id=\"sk-estimator-id-8\" type=\"checkbox\" ><label for=\"sk-estimator-id-8\" class=\"sk-toggleable__label sk-toggleable__label-arrow\">Pipeline</label><div class=\"sk-toggleable__content\"><pre>Pipeline(steps=[(&#x27;transformer&#x27;, StandardScaler()),\n",
       "                (&#x27;estimator&#x27;,\n",
       "                 GridSearchCV(cv=10, estimator=KNeighborsClassifier(),\n",
       "                              param_grid={&#x27;n_neighbors&#x27;: [1, 2, 3, 4, 5, 6, 7,\n",
       "                                                          8, 9, 10, 11, 12, 13,\n",
       "                                                          14, 15, 16, 17, 18,\n",
       "                                                          19, 20, 21, 22, 23,\n",
       "                                                          24, 25, 26, 27, 28,\n",
       "                                                          29, 30]},\n",
       "                              scoring=&#x27;f1&#x27;))])</pre></div></div></div><div class=\"sk-serial\"><div class=\"sk-item\"><div class=\"sk-estimator sk-toggleable\"><input class=\"sk-toggleable__control sk-hidden--visually\" id=\"sk-estimator-id-9\" type=\"checkbox\" ><label for=\"sk-estimator-id-9\" class=\"sk-toggleable__label sk-toggleable__label-arrow\">StandardScaler</label><div class=\"sk-toggleable__content\"><pre>StandardScaler()</pre></div></div></div><div class=\"sk-item sk-dashed-wrapped\"><div class=\"sk-label-container\"><div class=\"sk-label sk-toggleable\"><input class=\"sk-toggleable__control sk-hidden--visually\" id=\"sk-estimator-id-10\" type=\"checkbox\" ><label for=\"sk-estimator-id-10\" class=\"sk-toggleable__label sk-toggleable__label-arrow\">estimator: GridSearchCV</label><div class=\"sk-toggleable__content\"><pre>GridSearchCV(cv=10, estimator=KNeighborsClassifier(),\n",
       "             param_grid={&#x27;n_neighbors&#x27;: [1, 2, 3, 4, 5, 6, 7, 8, 9, 10, 11, 12,\n",
       "                                         13, 14, 15, 16, 17, 18, 19, 20, 21, 22,\n",
       "                                         23, 24, 25, 26, 27, 28, 29, 30]},\n",
       "             scoring=&#x27;f1&#x27;)</pre></div></div></div><div class=\"sk-parallel\"><div class=\"sk-parallel-item\"><div class=\"sk-item\"><div class=\"sk-label-container\"><div class=\"sk-label sk-toggleable\"><input class=\"sk-toggleable__control sk-hidden--visually\" id=\"sk-estimator-id-11\" type=\"checkbox\" ><label for=\"sk-estimator-id-11\" class=\"sk-toggleable__label sk-toggleable__label-arrow\">estimator: KNeighborsClassifier</label><div class=\"sk-toggleable__content\"><pre>KNeighborsClassifier()</pre></div></div></div><div class=\"sk-serial\"><div class=\"sk-item\"><div class=\"sk-estimator sk-toggleable\"><input class=\"sk-toggleable__control sk-hidden--visually\" id=\"sk-estimator-id-12\" type=\"checkbox\" ><label for=\"sk-estimator-id-12\" class=\"sk-toggleable__label sk-toggleable__label-arrow\">KNeighborsClassifier</label><div class=\"sk-toggleable__content\"><pre>KNeighborsClassifier()</pre></div></div></div></div></div></div></div></div></div></div></div></div>"
      ],
      "text/plain": [
       "Pipeline(steps=[('transformer', StandardScaler()),\n",
       "                ('estimator',\n",
       "                 GridSearchCV(cv=10, estimator=KNeighborsClassifier(),\n",
       "                              param_grid={'n_neighbors': [1, 2, 3, 4, 5, 6, 7,\n",
       "                                                          8, 9, 10, 11, 12, 13,\n",
       "                                                          14, 15, 16, 17, 18,\n",
       "                                                          19, 20, 21, 22, 23,\n",
       "                                                          24, 25, 26, 27, 28,\n",
       "                                                          29, 30]},\n",
       "                              scoring='f1'))])"
      ]
     },
     "execution_count": 132,
     "metadata": {},
     "output_type": "execute_result"
    }
   ],
   "source": [
    "grid_search_pipeline = Pipeline([('transformer',  StandardScaler()), ('estimator', grid)])\n",
    "\n",
    "grid_search_pipeline.fit(ex_X, ex_y)"
   ]
  },
  {
   "cell_type": "code",
   "execution_count": 133,
   "metadata": {},
   "outputs": [
    {
     "data": {
      "image/png": "[encoded data removed]",
      "text/plain": [
       "<Figure size 640x480 with 1 Axes>"
      ]
     },
     "metadata": {},
     "output_type": "display_data"
    }
   ],
   "source": [
    "grid_mean_scores = grid.cv_results_['mean_test_score']\n",
    "\n",
    "# plotting \n",
    "plt.plot(k_range, grid_mean_scores)\n",
    "plt.xlabel('K values')\n",
    "plt.ylabel('CV Accuracy')\n",
    "plt.show()"
   ]
  },
  {
   "cell_type": "code",
   "execution_count": 134,
   "metadata": {},
   "outputs": [
    {
     "name": "stdout",
     "output_type": "stream",
     "text": [
      "F1 0.7896352465003073\n",
      "{'n_neighbors': 13}\n",
      "KNeighborsClassifier(n_neighbors=13)\n"
     ]
    }
   ],
   "source": [
    "print(\"F1\", grid.best_score_)\n",
    "\n",
    "print(grid.best_params_)\n",
    "\n",
    "print(grid.best_estimator_)"
   ]
  },
  {
   "cell_type": "code",
   "execution_count": 135,
   "metadata": {},
   "outputs": [],
   "source": [
    "best_kNN = KNeighborsClassifier(n_neighbors = 13)\n",
    "best_kNN.fit(X_train, Y_train)\n",
    "predictions = best_kNN.predict(X_test)"
   ]
  },
  {
   "cell_type": "code",
   "execution_count": 136,
   "metadata": {},
   "outputs": [
    {
     "name": "stdout",
     "output_type": "stream",
     "text": [
      "[[884 111]\n",
      " [278 736]]\n",
      "0.8063713290194127\n",
      "              precision    recall  f1-score   support\n",
      "\n",
      "           0       0.76      0.89      0.82       995\n",
      "           1       0.87      0.73      0.79      1014\n",
      "\n",
      "    accuracy                           0.81      2009\n",
      "   macro avg       0.81      0.81      0.81      2009\n",
      "weighted avg       0.82      0.81      0.81      2009\n",
      "\n",
      "[[0.2 0.8]\n",
      " [0.6 0.4]\n",
      " [0.8 0.2]\n",
      " [1.  0. ]\n",
      " [1.  0. ]\n",
      " [0.8 0.2]\n",
      " [1.  0. ]\n",
      " [0.  1. ]\n",
      " [0.8 0.2]\n",
      " [0.4 0.6]]\n",
      "Mortality Prob: [0.8 0.4 0.2 0.  0.  0.2 0.  1.  0.2 0.6]\n"
     ]
    }
   ],
   "source": [
    "conf_matrix_test = metrics.confusion_matrix(Y_test, predictions)\n",
    "print(conf_matrix_test)\n",
    "\n",
    "test_accuracy_score = metrics.accuracy_score(Y_test, predictions)\n",
    "print(test_accuracy_score)\n",
    "\n",
    "ex_target_names = ex_data['hospital_expire_flag'].unique().tolist()\n",
    "ex_target_names = [str(x) for x in ex_target_names]\n",
    "\n",
    "\n",
    "class_report = metrics.classification_report(Y_test, \n",
    "                                             predictions, \n",
    "                                             target_names = ex_target_names)\n",
    "\n",
    "print(class_report)\n",
    "\n",
    "# using prob_a to get probabilities instead of predicted values\n",
    "prob = kNN.predict_proba(X_test)\n",
    "print(prob[:10])\n",
    "\n",
    "# get 2nd column of prob for test probabilities\n",
    "test_prob = prob[:, 1]\n",
    "print(\"Mortality Prob:\",test_prob[0:10])"
   ]
  },
  {
   "cell_type": "code",
   "execution_count": 137,
   "metadata": {},
   "outputs": [
    {
     "data": {
      "text/plain": [
       "{'Vanilla KNN': {'accuracy': 0.8003982080637133,\n",
       "  'precision': 0.8494868871151653,\n",
       "  'recall': 0.7347140039447732,\n",
       "  'f1': 0.7879428873611846,\n",
       "  'fbeta': 0.8237505528527199,\n",
       "  'log_loss': 1.7065391967494796,\n",
       "  'AUC': 0.8647924038337644},\n",
       " 'GridSearchCV KNN': {'accuracy': 0.8063713290194127,\n",
       "  'precision': 0.8689492325855962,\n",
       "  'recall': 0.7258382642998028,\n",
       "  'f1': 0.7909725953788286,\n",
       "  'fbeta': 0.8359836437982735,\n",
       "  'log_loss': 1.7065391967494796,\n",
       "  'AUC': 0.8647924038337644}}"
      ]
     },
     "execution_count": 137,
     "metadata": {},
     "output_type": "execute_result"
    }
   ],
   "source": [
    "best_knn_scores = get_performance_scores(Y_test, predictions, prob)\n",
    "results.update({\"GridSearchCV KNN\":best_knn_scores})\n",
    "results"
   ]
  },
  {
   "attachments": {},
   "cell_type": "markdown",
   "metadata": {},
   "source": [
    "## Logistic Regression"
   ]
  },
  {
   "cell_type": "code",
   "execution_count": 138,
   "metadata": {},
   "outputs": [
    {
     "name": "stderr",
     "output_type": "stream",
     "text": [
      "c:\\Users\\jupit\\Anaconda3\\envs\\AML\\lib\\site-packages\\sklearn\\linear_model\\_logistic.py:444: ConvergenceWarning: lbfgs failed to converge (status=1):\n",
      "STOP: TOTAL NO. of ITERATIONS REACHED LIMIT.\n",
      "\n",
      "Increase the number of iterations (max_iter) or scale the data as shown in:\n",
      "    https://scikit-learn.org/stable/modules/preprocessing.html\n",
      "Please also refer to the documentation for alternative solver options:\n",
      "    https://scikit-learn.org/stable/modules/linear_model.html#logistic-regression\n",
      "  n_iter_i = _check_optimize_result(\n"
     ]
    }
   ],
   "source": [
    "from sklearn import metrics, preprocessing, linear_model\n",
    "\n",
    "np.random.seed(18)\n",
    "\n",
    "# test dataset = 30%\n",
    "X_train, X_test, Y_train, Y_test = train_test_split(ex_X, ex_y, test_size = 0.3)\n",
    "\n",
    "scaler = preprocessing.MinMaxScaler()\n",
    "X_train_scaled = scaler.fit_transform(X_train)\n",
    "X_test_scaled = scaler.transform(X_test)\n",
    "\n",
    "log_reg_model = linear_model.LogisticRegression()\n",
    "\n",
    "log_reg_model.fit(X_train_scaled, Y_train)\n",
    "\n",
    "predictions = log_reg_model.predict(X_test_scaled)"
   ]
  },
  {
   "cell_type": "code",
   "execution_count": 139,
   "metadata": {},
   "outputs": [
    {
     "name": "stdout",
     "output_type": "stream",
     "text": [
      "[[857 138]\n",
      " [158 856]]\n",
      "0.8526630164260827\n"
     ]
    }
   ],
   "source": [
    "conf_matrix_test = metrics.confusion_matrix(Y_test, predictions)\n",
    "print(conf_matrix_test)\n",
    "\n",
    "test_accuracy_score = metrics.accuracy_score(Y_test, predictions)\n",
    "print(test_accuracy_score)\n",
    "\n",
    "# get the labels from death_event and convert to list\n",
    "ex_target_names = ex_data['hospital_expire_flag'].unique().tolist()\n",
    "ex_target_names = [str(x) for x in ex_target_names]"
   ]
  },
  {
   "cell_type": "code",
   "execution_count": 140,
   "metadata": {},
   "outputs": [
    {
     "name": "stdout",
     "output_type": "stream",
     "text": [
      "              precision    recall  f1-score   support\n",
      "\n",
      "           0       0.84      0.86      0.85       995\n",
      "           1       0.86      0.84      0.85      1014\n",
      "\n",
      "    accuracy                           0.85      2009\n",
      "   macro avg       0.85      0.85      0.85      2009\n",
      "weighted avg       0.85      0.85      0.85      2009\n",
      "\n",
      "[[0.0555159  0.9444841 ]\n",
      " [0.18835416 0.81164584]\n",
      " [0.84455587 0.15544413]\n",
      " [0.91697435 0.08302565]\n",
      " [0.89110607 0.10889393]\n",
      " [0.3947072  0.6052928 ]\n",
      " [0.89716908 0.10283092]\n",
      " [0.02168528 0.97831472]\n",
      " [0.86299244 0.13700756]\n",
      " [0.30633543 0.69366457]]\n",
      "Mortality prob: [0.9444841  0.81164584 0.15544413 0.08302565 0.10889393 0.6052928\n",
      " 0.10283092 0.97831472 0.13700756 0.69366457]\n"
     ]
    }
   ],
   "source": [
    "class_report = metrics.classification_report(Y_test, \n",
    "                                             predictions, \n",
    "                                             target_names = ex_target_names)\n",
    "\n",
    "print(class_report)\n",
    "\n",
    "# using prob_a to get probabilities instead of predicted values\n",
    "prob = log_reg_model.predict_proba(X_test_scaled)\n",
    "print(prob[:10])\n",
    "\n",
    "# get 2nd column of prob for test probabilities\n",
    "test_prob = prob[:, 1]\n",
    "print(\"Mortality prob:\",test_prob[0:10])"
   ]
  },
  {
   "cell_type": "code",
   "execution_count": 141,
   "metadata": {},
   "outputs": [
    {
     "name": "stdout",
     "output_type": "stream",
     "text": [
      "[[857 138]\n",
      " [158 856]]\n"
     ]
    },
    {
     "name": "stderr",
     "output_type": "stream",
     "text": [
      "c:\\Users\\jupit\\Anaconda3\\envs\\AML\\lib\\site-packages\\sklearn\\utils\\deprecation.py:87: FutureWarning: Function plot_confusion_matrix is deprecated; Function `plot_confusion_matrix` is deprecated in 1.0 and will be removed in 1.2. Use one of the class methods: ConfusionMatrixDisplay.from_predictions or ConfusionMatrixDisplay.from_estimator.\n",
      "  warnings.warn(msg, category=FutureWarning)\n"
     ]
    },
    {
     "data": {
      "image/png": "[encoded data removed]",
      "text/plain": [
       "<Figure size 640x480 with 2 Axes>"
      ]
     },
     "metadata": {},
     "output_type": "display_data"
    }
   ],
   "source": [
    "log = confusion_matrix(Y_test, predictions)\n",
    "print(log)\n",
    "\n",
    "# create visualization via matplotlib code from lecture \n",
    "plot_confusion_matrix(log_reg_model, X_test_scaled, Y_test, cmap=plt.cm.Blues)  \n",
    "classNames = ['Negative', 'Positive']\n",
    "plt.title('Confusion Matrix Test Data')\n",
    "plt.ylabel('True label')\n",
    "plt.xlabel('Predicted label')\n",
    "tick_marks = np.arange(len(classNames))\n",
    "\n",
    "# set ticks for x and y axis\n",
    "plt.xticks(tick_marks, classNames)\n",
    "plt.yticks(tick_marks, classNames)\n",
    "\n",
    "plt.show()"
   ]
  },
  {
   "cell_type": "code",
   "execution_count": 142,
   "metadata": {},
   "outputs": [
    {
     "name": "stdout",
     "output_type": "stream",
     "text": [
      "False positive:  [0.         0.00100503 0.00100503 0.00201005 0.00201005 0.0040201\n",
      " 0.0040201  0.00502513 0.00502513 0.00603015]\n",
      "True positive:  [0.         0.         0.01775148 0.01775148 0.09467456 0.09467456\n",
      " 0.11538462 0.11538462 0.12524655 0.12524655]\n",
      "Threshold:  [1.99999361 0.99999361 0.99626842 0.99620992 0.99147106 0.99143245\n",
      " 0.98968094 0.98943895 0.98836867 0.98830014]\n",
      "Area under the ROC curve:  0.9172588782175177\n"
     ]
    },
    {
     "data": {
      "image/png": "[encoded data removed]",
      "text/plain": [
       "<Figure size 640x480 with 1 Axes>"
      ]
     },
     "metadata": {},
     "output_type": "display_data"
    }
   ],
   "source": [
    "# combining code from lecture\n",
    "ex_fpr, ex_tpr, ex_threshold = metrics.roc_curve(Y_test, test_prob) \n",
    "print(\"False positive: \", ex_fpr[:10])\n",
    "print(\"True positive: \", ex_tpr[:10])\n",
    "print(\"Threshold: \", ex_threshold[:10])\n",
    "\n",
    "# auc score via fpr and tpr arrays.\n",
    "ex_auc = metrics.auc(ex_fpr, ex_tpr)\n",
    "print(\"Area under the ROC curve: \", ex_auc)\n",
    "\n",
    "# plot roc curve\n",
    "plt.title('Receiver Operator Characteristic')\n",
    "plt.plot(ex_fpr, ex_tpr, 'b', label = 'AUC = %0.2f' % ex_auc)\n",
    "plt.legend(loc = 'lower right')\n",
    "plt.plot([0, 1], [0, 1],'r--')\n",
    "plt.xlabel('False Positive Rate')\n",
    "plt.ylabel('True Positive Rate')\n",
    "plt.show()"
   ]
  },
  {
   "cell_type": "code",
   "execution_count": 143,
   "metadata": {},
   "outputs": [
    {
     "data": {
      "text/plain": [
       "{'Vanilla KNN': {'accuracy': 0.8003982080637133,\n",
       "  'precision': 0.8494868871151653,\n",
       "  'recall': 0.7347140039447732,\n",
       "  'f1': 0.7879428873611846,\n",
       "  'fbeta': 0.8237505528527199,\n",
       "  'log_loss': 1.7065391967494796,\n",
       "  'AUC': 0.8647924038337644},\n",
       " 'GridSearchCV KNN': {'accuracy': 0.8063713290194127,\n",
       "  'precision': 0.8689492325855962,\n",
       "  'recall': 0.7258382642998028,\n",
       "  'f1': 0.7909725953788286,\n",
       "  'fbeta': 0.8359836437982735,\n",
       "  'log_loss': 1.7065391967494796,\n",
       "  'AUC': 0.8647924038337644},\n",
       " 'Vanilla Logistic Reg': {'accuracy': 0.8526630164260827,\n",
       "  'precision': 0.8611670020120724,\n",
       "  'recall': 0.8441814595660749,\n",
       "  'f1': 0.852589641434263,\n",
       "  'fbeta': 0.8577154308617235,\n",
       "  'log_loss': 0.37316599970282904,\n",
       "  'AUC': 0.9172588782175177}}"
      ]
     },
     "execution_count": 143,
     "metadata": {},
     "output_type": "execute_result"
    }
   ],
   "source": [
    "log_metrics = get_performance_scores(Y_test, predictions, prob)\n",
    "results.update({\"Vanilla Logistic Reg\":log_metrics})\n",
    "results"
   ]
  },
  {
   "attachments": {},
   "cell_type": "markdown",
   "metadata": {},
   "source": [
    "## Logistic Regression GridSearchCV "
   ]
  },
  {
   "cell_type": "code",
   "execution_count": 144,
   "metadata": {},
   "outputs": [
    {
     "name": "stdout",
     "output_type": "stream",
     "text": [
      "{'C': array([1.00000000e+00, 1.29154967e+01, 1.66810054e+02, 2.15443469e+03,\n",
      "       2.78255940e+04, 3.59381366e+05, 4.64158883e+06, 5.99484250e+07,\n",
      "       7.74263683e+08, 1.00000000e+10]), 'penalty': ['l1', 'l2']}\n"
     ]
    }
   ],
   "source": [
    "# l1/lasso and l2/ridge regularization adds pentalty as model complexity increases (more vars)\n",
    "penalty = ['l1', 'l2']\n",
    "\n",
    "# create reg constant space\n",
    "C = np.logspace(0, 10, 10)\n",
    "\n",
    "# store in dict for CV\n",
    "hyperparameters = dict(C = C, penalty = penalty)\n",
    "print(hyperparameters)"
   ]
  },
  {
   "cell_type": "code",
   "execution_count": 145,
   "metadata": {},
   "outputs": [
    {
     "name": "stdout",
     "output_type": "stream",
     "text": [
      "GridSearchCV(cv=15, estimator=LogisticRegression(solver='liblinear'),\n",
      "             param_grid={'C': array([1.00000000e+00, 1.29154967e+01, 1.66810054e+02, 2.15443469e+03,\n",
      "       2.78255940e+04, 3.59381366e+05, 4.64158883e+06, 5.99484250e+07,\n",
      "       7.74263683e+08, 1.00000000e+10]),\n",
      "                         'penalty': ['l1', 'l2']})\n"
     ]
    }
   ],
   "source": [
    "# liblinear solver for l1/l2 regularization\n",
    "clf = GridSearchCV(linear_model.LogisticRegression(solver='liblinear'),\n",
    "                   hyperparameters,\n",
    "                   cv = 15)\n",
    "optimal_model = clf.fit(X_train_scaled, Y_train)\n",
    "print(optimal_model)"
   ]
  },
  {
   "cell_type": "code",
   "execution_count": 146,
   "metadata": {},
   "outputs": [
    {
     "name": "stdout",
     "output_type": "stream",
     "text": [
      "Best penalty:  l1\n",
      "Best C:  1.0\n"
     ]
    }
   ],
   "source": [
    "penalty = optimal_model.best_estimator_.get_params()['penalty']\n",
    "constant = optimal_model.best_estimator_.get_params()['C']\n",
    "print('Best penalty: ', penalty)\n",
    "print('Best C: ', constant)"
   ]
  },
  {
   "cell_type": "code",
   "execution_count": 147,
   "metadata": {},
   "outputs": [
    {
     "name": "stdout",
     "output_type": "stream",
     "text": [
      "Accuracy on train data:  0.8518676627534685\n",
      "Accuracy on test data (best model):  0.8541562966650075\n",
      "[[858 137]\n",
      " [156 858]]\n",
      "              precision    recall  f1-score   support\n",
      "\n",
      "           0       0.85      0.86      0.85       995\n",
      "           1       0.86      0.85      0.85      1014\n",
      "\n",
      "    accuracy                           0.85      2009\n",
      "   macro avg       0.85      0.85      0.85      2009\n",
      "weighted avg       0.85      0.85      0.85      2009\n",
      "\n"
     ]
    }
   ],
   "source": [
    "best_predictions = optimal_model.predict(X_test_scaled)\n",
    "\n",
    "# Optimal Accuracy Score for training dataset\n",
    "train_best_accuracy_score = optimal_model.score(X_train_scaled, Y_train)\n",
    "print(\"Accuracy on train data: \" , train_best_accuracy_score)\n",
    "\n",
    "# Optimal Accuracy Score for testing dataset\n",
    "test_best_accuracy_score = metrics.accuracy_score(Y_test, best_predictions)\n",
    "print(\"Accuracy on test data (best model): \", test_best_accuracy_score)\n",
    "\n",
    "\n",
    "best_confusion_matrix = metrics.confusion_matrix(Y_test, best_predictions)\n",
    "print(best_confusion_matrix)\n",
    "\n",
    "best_probabilities = optimal_model.predict_proba(X_test_scaled)\n",
    "\n",
    "# get the labels from death_event and convert to list\n",
    "ex_target_names = ex_data['hospital_expire_flag'].unique().tolist()\n",
    "ex_target_names = [str(x) for x in ex_target_names]\n",
    "\n",
    "ex_best_class_report = metrics.classification_report(Y_test, best_predictions, target_names = ex_target_names)\n",
    "print(ex_best_class_report)"
   ]
  },
  {
   "cell_type": "code",
   "execution_count": 148,
   "metadata": {},
   "outputs": [],
   "source": [
    "best_log = get_performance_scores(Y_test, best_predictions, best_probabilities)"
   ]
  },
  {
   "cell_type": "code",
   "execution_count": 149,
   "metadata": {},
   "outputs": [
    {
     "name": "stdout",
     "output_type": "stream",
     "text": [
      "0.9185196197952286\n"
     ]
    },
    {
     "data": {
      "image/png": "[encoded data removed]",
      "text/plain": [
       "<Figure size 640x480 with 1 Axes>"
      ]
     },
     "metadata": {},
     "output_type": "display_data"
    }
   ],
   "source": [
    "best_probabilities = optimal_model.predict_proba(X_test_scaled)\n",
    "\n",
    "# test probs are in second column\n",
    "test_best_probs = best_probabilities[: ,1]\n",
    "\n",
    "# get ROC values: fpr, tpr, threshold\n",
    "ex_best_fpr, ex_best_tpr, ex_best_threshold = metrics.roc_curve(Y_test, test_best_probs)\n",
    "\n",
    "# calculate AUC area\n",
    "ex_best_auc = metrics.auc(ex_best_fpr, ex_best_tpr)\n",
    "print(ex_best_auc)\n",
    "\n",
    "# plot ROC curve with best and previous models, code from lecture\n",
    "plt.title('Receiver Operator Characteristic')\n",
    "plt.plot(ex_fpr, ex_tpr, 'b', label = 'AUC = %0.2f' % ex_auc)\n",
    "plt.plot(ex_best_fpr, ex_best_tpr, 'black', label = 'AUC (best) = %0.2f' % ex_best_auc)\n",
    "plt.legend(loc = 'lower right')\n",
    "plt.plot([0, 1], [0, 1],'r--')\n",
    "plt.xlabel('False Positive Rate')\n",
    "plt.ylabel('True Positive Rate')\n",
    "plt.show()"
   ]
  },
  {
   "cell_type": "code",
   "execution_count": 150,
   "metadata": {},
   "outputs": [
    {
     "name": "stdout",
     "output_type": "stream",
     "text": [
      "[[858 137]\n",
      " [156 858]]\n"
     ]
    },
    {
     "name": "stderr",
     "output_type": "stream",
     "text": [
      "c:\\Users\\jupit\\Anaconda3\\envs\\AML\\lib\\site-packages\\sklearn\\utils\\deprecation.py:87: FutureWarning: Function plot_confusion_matrix is deprecated; Function `plot_confusion_matrix` is deprecated in 1.0 and will be removed in 1.2. Use one of the class methods: ConfusionMatrixDisplay.from_predictions or ConfusionMatrixDisplay.from_estimator.\n",
      "  warnings.warn(msg, category=FutureWarning)\n"
     ]
    },
    {
     "data": {
      "image/png": "[encoded data removed]",
      "text/plain": [
       "<Figure size 640x480 with 2 Axes>"
      ]
     },
     "metadata": {},
     "output_type": "display_data"
    }
   ],
   "source": [
    "log = confusion_matrix(Y_test, best_predictions)\n",
    "print(log)\n",
    "\n",
    "# create visualization via matplotlib code from lecture \n",
    "plot_confusion_matrix(optimal_model, X_test_scaled, Y_test, cmap=plt.cm.Blues)  \n",
    "classNames = ['Negative', 'Positive']\n",
    "plt.title('Confusion Matrix Test Data')\n",
    "plt.ylabel('True label')\n",
    "plt.xlabel('Predicted label')\n",
    "tick_marks = np.arange(len(classNames))\n",
    "\n",
    "# set ticks for x and y axis\n",
    "plt.xticks(tick_marks, classNames)\n",
    "plt.yticks(tick_marks, classNames)\n",
    "\n",
    "plt.show()"
   ]
  },
  {
   "cell_type": "code",
   "execution_count": 151,
   "metadata": {},
   "outputs": [
    {
     "data": {
      "text/plain": [
       "{'Vanilla KNN': {'accuracy': 0.8003982080637133,\n",
       "  'precision': 0.8494868871151653,\n",
       "  'recall': 0.7347140039447732,\n",
       "  'f1': 0.7879428873611846,\n",
       "  'fbeta': 0.8237505528527199,\n",
       "  'log_loss': 1.7065391967494796,\n",
       "  'AUC': 0.8647924038337644},\n",
       " 'GridSearchCV KNN': {'accuracy': 0.8063713290194127,\n",
       "  'precision': 0.8689492325855962,\n",
       "  'recall': 0.7258382642998028,\n",
       "  'f1': 0.7909725953788286,\n",
       "  'fbeta': 0.8359836437982735,\n",
       "  'log_loss': 1.7065391967494796,\n",
       "  'AUC': 0.8647924038337644},\n",
       " 'Vanilla Logistic Reg': {'accuracy': 0.8526630164260827,\n",
       "  'precision': 0.8611670020120724,\n",
       "  'recall': 0.8441814595660749,\n",
       "  'f1': 0.852589641434263,\n",
       "  'fbeta': 0.8577154308617235,\n",
       "  'log_loss': 0.37316599970282904,\n",
       "  'AUC': 0.9172588782175177},\n",
       " 'GridSearchCV Logistic Regression': {'accuracy': 0.8541562966650075,\n",
       "  'precision': 0.8623115577889447,\n",
       "  'recall': 0.8461538461538461,\n",
       "  'f1': 0.8541562966650074,\n",
       "  'fbeta': 0.8590308370044053,\n",
       "  'log_loss': 0.3676927050917961,\n",
       "  'AUC': 0.9185196197952286}}"
      ]
     },
     "execution_count": 151,
     "metadata": {},
     "output_type": "execute_result"
    }
   ],
   "source": [
    "results.update({'GridSearchCV Logistic Regression': get_performance_scores(Y_test, best_predictions, best_probabilities)})\n",
    "results"
   ]
  },
  {
   "attachments": {},
   "cell_type": "markdown",
   "metadata": {},
   "source": [
    "## Decision Trees"
   ]
  },
  {
   "cell_type": "code",
   "execution_count": 152,
   "metadata": {},
   "outputs": [],
   "source": [
    "import os\n",
    "import pandas as pd\n",
    "import numpy as np\n",
    "import matplotlib.pyplot as plt\n",
    "import seaborn as sns\n",
    "from pathlib import Path\n",
    "\n",
    "\n",
    "import pickle\n",
    "from sklearn.model_selection import train_test_split\n",
    "from sklearn.neighbors import KNeighborsClassifier\n",
    "from sklearn.preprocessing import scale,StandardScaler\n",
    "from sklearn.pipeline import Pipeline\n",
    "from sklearn.model_selection import cross_val_score\n",
    "from sklearn.model_selection import GridSearchCV\n",
    "from sklearn.metrics import accuracy_score, classification_report, confusion_matrix, plot_confusion_matrix\n",
    "from sklearn import metrics, preprocessing, linear_model\n",
    "from sklearn import tree\n",
    "from sklearn.tree import DecisionTreeClassifier\n",
    "from matplotlib.legend_handler import HandlerLine2D"
   ]
  },
  {
   "cell_type": "code",
   "execution_count": 153,
   "metadata": {},
   "outputs": [],
   "source": [
    "X_train, X_test, Y_train, Y_test = train_test_split(ex_X, ex_y, test_size = 0.3)\n",
    "clf = tree.DecisionTreeClassifier()\n",
    "clf_fit = clf.fit(X_train, Y_train)\n",
    "\n",
    "predictions = clf_fit.predict(X_test)"
   ]
  },
  {
   "cell_type": "code",
   "execution_count": 154,
   "metadata": {},
   "outputs": [
    {
     "name": "stdout",
     "output_type": "stream",
     "text": [
      "[[824 206]\n",
      " [196 783]]\n",
      "0.7999004479840717\n",
      "              precision    recall  f1-score   support\n",
      "\n",
      "           0       0.81      0.80      0.80      1030\n",
      "           1       0.79      0.80      0.80       979\n",
      "\n",
      "    accuracy                           0.80      2009\n",
      "   macro avg       0.80      0.80      0.80      2009\n",
      "weighted avg       0.80      0.80      0.80      2009\n",
      "\n",
      "[[0. 1.]\n",
      " [1. 0.]\n",
      " [1. 0.]\n",
      " [1. 0.]\n",
      " [1. 0.]\n",
      " [0. 1.]\n",
      " [1. 0.]\n",
      " [1. 0.]\n",
      " [0. 1.]\n",
      " [1. 0.]]\n",
      "Mortality Prob [1. 0. 0. 0. 0. 1. 0. 0. 1. 0.]\n"
     ]
    }
   ],
   "source": [
    "conf_matrix_test = metrics.confusion_matrix(Y_test, predictions)\n",
    "print(conf_matrix_test)\n",
    "\n",
    "test_accuracy_score = metrics.accuracy_score(Y_test, predictions)\n",
    "print(test_accuracy_score)\n",
    "\n",
    "ex_target_names = ex_data['hospital_expire_flag'].unique().tolist()\n",
    "ex_target_names = [str(x) for x in ex_target_names]\n",
    "\n",
    "\n",
    "class_report = metrics.classification_report(Y_test, \n",
    "                                             predictions, \n",
    "                                             target_names = ex_target_names)\n",
    "\n",
    "print(class_report)\n",
    "\n",
    "# using prob_a to get probabilities instead of predicted values\n",
    "prob = clf_fit.predict_proba(X_test)\n",
    "print(prob[:10])\n",
    "\n",
    "# get 2nd column of prob for test probabilities\n",
    "test_prob = prob[:, 1]\n",
    "print(\"Mortality Prob\",test_prob[0:10])"
   ]
  },
  {
   "cell_type": "code",
   "execution_count": 155,
   "metadata": {},
   "outputs": [
    {
     "name": "stdout",
     "output_type": "stream",
     "text": [
      "CV acc score: 0.7896602190839526\n"
     ]
    }
   ],
   "source": [
    "cv_scores = cross_val_score(clf, ex_X, ex_y, cv = 10)\n",
    "print(\"CV acc score:\", cv_scores.mean())"
   ]
  },
  {
   "cell_type": "code",
   "execution_count": 156,
   "metadata": {},
   "outputs": [
    {
     "data": {
      "text/plain": [
       "{'Vanilla KNN': {'accuracy': 0.8003982080637133,\n",
       "  'precision': 0.8494868871151653,\n",
       "  'recall': 0.7347140039447732,\n",
       "  'f1': 0.7879428873611846,\n",
       "  'fbeta': 0.8237505528527199,\n",
       "  'log_loss': 1.7065391967494796,\n",
       "  'AUC': 0.8647924038337644},\n",
       " 'GridSearchCV KNN': {'accuracy': 0.8063713290194127,\n",
       "  'precision': 0.8689492325855962,\n",
       "  'recall': 0.7258382642998028,\n",
       "  'f1': 0.7909725953788286,\n",
       "  'fbeta': 0.8359836437982735,\n",
       "  'log_loss': 1.7065391967494796,\n",
       "  'AUC': 0.8647924038337644},\n",
       " 'Vanilla Logistic Reg': {'accuracy': 0.8526630164260827,\n",
       "  'precision': 0.8611670020120724,\n",
       "  'recall': 0.8441814595660749,\n",
       "  'f1': 0.852589641434263,\n",
       "  'fbeta': 0.8577154308617235,\n",
       "  'log_loss': 0.37316599970282904,\n",
       "  'AUC': 0.9172588782175177},\n",
       " 'GridSearchCV Logistic Regression': {'accuracy': 0.8541562966650075,\n",
       "  'precision': 0.8623115577889447,\n",
       "  'recall': 0.8461538461538461,\n",
       "  'f1': 0.8541562966650074,\n",
       "  'fbeta': 0.8590308370044053,\n",
       "  'log_loss': 0.3676927050917961,\n",
       "  'AUC': 0.9185196197952286},\n",
       " 'DT': {'accuracy': 0.7999004479840717,\n",
       "  'precision': 0.7917087967644085,\n",
       "  'recall': 0.7997957099080695,\n",
       "  'f1': 0.7957317073170732,\n",
       "  'fbeta': 0.7933130699088147,\n",
       "  'log_loss': 6.911275673382138,\n",
       "  'AUC': 0.7998978549540349}}"
      ]
     },
     "execution_count": 156,
     "metadata": {},
     "output_type": "execute_result"
    }
   ],
   "source": [
    "rf_metrics = get_performance_scores(Y_test, predictions, prob)\n",
    "results.update({\"DT\": rf_metrics})\n",
    "results"
   ]
  },
  {
   "attachments": {},
   "cell_type": "markdown",
   "metadata": {},
   "source": [
    "## Optimized Decision Tree"
   ]
  },
  {
   "cell_type": "code",
   "execution_count": 157,
   "metadata": {},
   "outputs": [],
   "source": [
    "# function from lecture\n",
    "def optimal_parameter(values,test_results):\n",
    "    best_test_value = max(test_results)\n",
    "    best_test_index = test_results.index(best_test_value)\n",
    "    best_value = values[best_test_index]\n",
    "    return best_value "
   ]
  },
  {
   "cell_type": "code",
   "execution_count": 158,
   "metadata": {},
   "outputs": [
    {
     "data": {
      "image/png": "[encoded data removed]",
      "text/plain": [
       "<Figure size 640x480 with 1 Axes>"
      ]
     },
     "metadata": {},
     "output_type": "display_data"
    }
   ],
   "source": [
    "# create depths from 1-32 for decision tree with linspace; increasing max_depth captures more info- care for overfitting\n",
    "ex_max_depths = np.linspace(1, 32, 32, endpoint = True)\n",
    "# arrays to store training/testing results\n",
    "ex_train_results = []\n",
    "ex_test_results = []\n",
    "\n",
    "# iterate through depths\n",
    "for max_depth in ex_max_depths:\n",
    "    \n",
    "    # create DT with curr max_depth\n",
    "    ex_dt = DecisionTreeClassifier(max_depth = int(max_depth))\n",
    "    ex_dt.fit(X_train, Y_train)\n",
    "   \n",
    "    # predict on the DT and get accuracy score for train\n",
    "    ex_train_pred = ex_dt.predict(X_train)\n",
    "    ex_acc_train = accuracy_score(Y_train, ex_train_pred)\n",
    "    ex_train_results.append(ex_acc_train)\n",
    "   \n",
    "    # predict the test data set and get testing acc\n",
    "    ex_y_pred = ex_dt.predict(X_test)\n",
    "    ex_acc_test = accuracy_score(Y_test, ex_y_pred)\n",
    "    ex_test_results.append(ex_acc_test)\n",
    "\n",
    "optimal_max_depth = optimal_parameter(ex_max_depths, ex_test_results)\n",
    "\n",
    "# plotting code from lecture to visualize tree_depth vs accuracies \n",
    "# Plot max depth over 1 - 32. \n",
    "line1, = plt.plot(ex_max_depths, ex_train_results, 'b', label= \"Train accuracy\")\n",
    "line2, = plt.plot(ex_max_depths, ex_test_results, 'r', label= \"Test accuracy\")\n",
    "\n",
    "plt.legend(handler_map={line1: HandlerLine2D(numpoints = 2)})\n",
    "plt.ylabel('Accuracy')\n",
    "plt.xlabel('Tree depth')\n",
    "plt.show()"
   ]
  },
  {
   "cell_type": "code",
   "execution_count": 159,
   "metadata": {},
   "outputs": [
    {
     "data": {
      "image/png": "[encoded data removed]",
      "text/plain": [
       "<Figure size 640x480 with 1 Axes>"
      ]
     },
     "metadata": {},
     "output_type": "display_data"
    }
   ],
   "source": [
    "# linspace from 10% to 100%; tree becomes more constrained when min_samples_split increases\n",
    "min_samples_splits = np.linspace(0.1, 1.0, 10, endpoint=True)\n",
    "ex_train_results = []\n",
    "ex_test_results = []\n",
    "\n",
    "\n",
    "# follows same logic as max_depth code above but specialized for min_samples_split\n",
    "for min_samples_split in min_samples_splits:\n",
    "    \n",
    "    # create DT with curr min_samples_splits\n",
    "    ex_dt = DecisionTreeClassifier(min_samples_split=min_samples_split)\n",
    "    ex_dt.fit(X_train, Y_train)\n",
    "   \n",
    "    # predict on the DT and get accuracy score for train\n",
    "    ex_train_pred = ex_dt.predict(X_train)\n",
    "    ex_acc_train = accuracy_score(Y_train, ex_train_pred)\n",
    "    ex_train_results.append(ex_acc_train)\n",
    "   \n",
    "    # predict the test data set and get testing acc\n",
    "    ex_y_pred = ex_dt.predict(X_test)\n",
    "    ex_acc_test = accuracy_score(Y_test, ex_y_pred)\n",
    "    ex_test_results.append(ex_acc_test)\n",
    "    \n",
    "optimal_min_samples_split = optimal_parameter(min_samples_splits,ex_test_results) \n",
    "\n",
    "# Plot min_sample split.\n",
    "line1, = plt.plot(min_samples_splits, ex_train_results, 'b', label = \"Train accuracy\")\n",
    "line2, = plt.plot(min_samples_splits, ex_test_results, 'r', label = \"Test accuracy\")\n",
    "\n",
    "plt.legend(handler_map={line1: HandlerLine2D(numpoints=2)})\n",
    "plt.ylabel('Accuracy')\n",
    "plt.xlabel('min samples split')\n",
    "plt.show()"
   ]
  },
  {
   "cell_type": "code",
   "execution_count": 160,
   "metadata": {},
   "outputs": [
    {
     "data": {
      "image/png": "[encoded data removed]",
      "text/plain": [
       "<Figure size 640x480 with 1 Axes>"
      ]
     },
     "metadata": {},
     "output_type": "display_data"
    }
   ],
   "source": [
    "# code from lecture: linespace from 10% to 50%\n",
    "ex_min_samples_leafs = np.linspace(0.1, 0.5, 5, endpoint = True)\n",
    "ex_train_results = []\n",
    "ex_test_results = []\n",
    "\n",
    "for min_samples_leaf in ex_min_samples_leafs:\n",
    "   # create DT with curr min_samples_leafs\n",
    "    ex_dt = DecisionTreeClassifier(min_samples_leaf=min_samples_leaf)\n",
    "    ex_dt.fit(X_train, Y_train)\n",
    "   \n",
    "    # predict on the DT and get accuracy score for train\n",
    "    ex_train_pred = ex_dt.predict(X_train)\n",
    "    ex_acc_train = accuracy_score(Y_train, ex_train_pred)\n",
    "    ex_train_results.append(ex_acc_train)\n",
    "   \n",
    "    # predict the test data set and get testing acc\n",
    "    ex_y_pred = ex_dt.predict(X_test)\n",
    "    ex_acc_test = accuracy_score(Y_test, ex_y_pred)\n",
    "    ex_test_results.append(ex_acc_test)\n",
    "\n",
    "ex_optimal_min_samples_leafs = optimal_parameter(ex_min_samples_leafs, ex_test_results)\n",
    "\n",
    "line1, = plt.plot(ex_min_samples_leafs, ex_train_results, 'b', label= \"Train accuracy\")\n",
    "line2, = plt.plot(ex_min_samples_leafs, ex_test_results, 'r', label= \"Test accuracy\")\n",
    "\n",
    "plt.legend(handler_map={line1: HandlerLine2D(numpoints=2)})\n",
    "plt.ylabel('Accuracy')\n",
    "plt.xlabel('min samples leafs')\n",
    "plt.show()"
   ]
  },
  {
   "cell_type": "code",
   "execution_count": 161,
   "metadata": {},
   "outputs": [
    {
     "data": {
      "image/png": "[encoded data removed]",
      "text/plain": [
       "<Figure size 640x480 with 1 Axes>"
      ]
     },
     "metadata": {},
     "output_type": "display_data"
    }
   ],
   "source": [
    "# code from lecture\n",
    "# get num of columns in ex_X for max range value\n",
    "ex_max_features = list(range(1, ex_X.shape[1]))\n",
    "ex_train_results = []\n",
    "ex_test_results = []\n",
    "\n",
    "for max_feature in ex_max_features:\n",
    "   # create DT with curr min_samples_leafs\n",
    "    ex_dt = DecisionTreeClassifier(max_features=max_feature)\n",
    "    ex_dt.fit(X_train, Y_train)\n",
    "   \n",
    "    # predict on the DT and get accuracy score for train\n",
    "    ex_train_pred = ex_dt.predict(X_train)\n",
    "    ex_acc_train = accuracy_score(Y_train, ex_train_pred)\n",
    "    ex_train_results.append(ex_acc_train)\n",
    "   \n",
    "    # predict the test data set and get testing acc\n",
    "    ex_y_pred = ex_dt.predict(X_test)\n",
    "    ex_acc_test = accuracy_score(Y_test, ex_y_pred)\n",
    "    ex_test_results.append(ex_acc_test)\n",
    "\n",
    "ex_optimal_max_features = optimal_parameter(ex_max_features, ex_test_results)\n",
    "\n",
    "line1, = plt.plot(ex_max_features, ex_train_results, 'b', label= \"Train accuracy\")\n",
    "line2, = plt.plot(ex_max_features, ex_test_results, 'r', label= \"Test accuracy\")\n",
    "\n",
    "plt.legend(handler_map={line1: HandlerLine2D(numpoints=2)})\n",
    "plt.ylabel('Accuracy')\n",
    "plt.xlabel('max features')\n",
    "plt.show()"
   ]
  },
  {
   "cell_type": "code",
   "execution_count": 162,
   "metadata": {},
   "outputs": [
    {
     "name": "stdout",
     "output_type": "stream",
     "text": [
      "optimal max depth: 7.0\n",
      "optimal min samples split: 0.1\n",
      "optimal min samples leaf: 0.1\n",
      "optimal max features: 43\n"
     ]
    }
   ],
   "source": [
    "print(\"optimal max depth:\", optimal_max_depth)\n",
    "print(\"optimal min samples split:\", optimal_min_samples_split)\n",
    "print(\"optimal min samples leaf:\", ex_optimal_min_samples_leafs)\n",
    "print(\"optimal max features:\", ex_optimal_max_features)"
   ]
  },
  {
   "cell_type": "code",
   "execution_count": 163,
   "metadata": {},
   "outputs": [
    {
     "name": "stdout",
     "output_type": "stream",
     "text": [
      "0.7959183673469388\n"
     ]
    }
   ],
   "source": [
    "optimized_clf = tree.DecisionTreeClassifier(max_depth = int(optimal_max_depth),\n",
    "                                            min_samples_split = optimal_min_samples_split,\n",
    "                                            min_samples_leaf = ex_optimal_min_samples_leafs,\n",
    "                                            max_features = ex_optimal_max_features)\n",
    "\n",
    "clf_optimized_fit = optimized_clf.fit(X_train, Y_train)\n",
    "y_predict_optimized = clf_optimized_fit.predict(X_test)\n",
    "\n",
    "ex_acc_score_tree_optimized = accuracy_score(Y_test, y_predict_optimized)\n",
    "print(ex_acc_score_tree_optimized)"
   ]
  },
  {
   "cell_type": "code",
   "execution_count": 164,
   "metadata": {},
   "outputs": [
    {
     "name": "stdout",
     "output_type": "stream",
     "text": [
      "              precision    recall  f1-score   support\n",
      "\n",
      "           0       0.74      0.93      0.82      1030\n",
      "           1       0.90      0.65      0.76       979\n",
      "\n",
      "    accuracy                           0.80      2009\n",
      "   macro avg       0.82      0.79      0.79      2009\n",
      "weighted avg       0.82      0.80      0.79      2009\n",
      "\n"
     ]
    }
   ],
   "source": [
    "ex_target_names = ex_data['hospital_expire_flag'].unique().tolist()\n",
    "ex_target_names = [str(x) for x in ex_target_names]\n",
    "class_report = metrics.classification_report(Y_test, \n",
    "                                             y_predict_optimized, \n",
    "                                             target_names = ex_target_names)\n",
    "print(class_report)\n",
    "y_prob_optimized = clf_optimized_fit.predict_proba(X_test)\n"
   ]
  },
  {
   "cell_type": "code",
   "execution_count": 165,
   "metadata": {},
   "outputs": [
    {
     "data": {
      "text/plain": [
       "{'Vanilla KNN': {'accuracy': 0.8003982080637133,\n",
       "  'precision': 0.8494868871151653,\n",
       "  'recall': 0.7347140039447732,\n",
       "  'f1': 0.7879428873611846,\n",
       "  'fbeta': 0.8237505528527199,\n",
       "  'log_loss': 1.7065391967494796,\n",
       "  'AUC': 0.8647924038337644},\n",
       " 'GridSearchCV KNN': {'accuracy': 0.8063713290194127,\n",
       "  'precision': 0.8689492325855962,\n",
       "  'recall': 0.7258382642998028,\n",
       "  'f1': 0.7909725953788286,\n",
       "  'fbeta': 0.8359836437982735,\n",
       "  'log_loss': 1.7065391967494796,\n",
       "  'AUC': 0.8647924038337644},\n",
       " 'Vanilla Logistic Reg': {'accuracy': 0.8526630164260827,\n",
       "  'precision': 0.8611670020120724,\n",
       "  'recall': 0.8441814595660749,\n",
       "  'f1': 0.852589641434263,\n",
       "  'fbeta': 0.8577154308617235,\n",
       "  'log_loss': 0.37316599970282904,\n",
       "  'AUC': 0.9172588782175177},\n",
       " 'GridSearchCV Logistic Regression': {'accuracy': 0.8541562966650075,\n",
       "  'precision': 0.8623115577889447,\n",
       "  'recall': 0.8461538461538461,\n",
       "  'f1': 0.8541562966650074,\n",
       "  'fbeta': 0.8590308370044053,\n",
       "  'log_loss': 0.3676927050917961,\n",
       "  'AUC': 0.9185196197952286},\n",
       " 'DT': {'accuracy': 0.7999004479840717,\n",
       "  'precision': 0.7917087967644085,\n",
       "  'recall': 0.7997957099080695,\n",
       "  'f1': 0.7957317073170732,\n",
       "  'fbeta': 0.7933130699088147,\n",
       "  'log_loss': 6.911275673382138,\n",
       "  'AUC': 0.7998978549540349},\n",
       " 'Optimized DT': {'accuracy': 0.7959183673469388,\n",
       "  'precision': 0.9012693935119888,\n",
       "  'recall': 0.6527068437180796,\n",
       "  'f1': 0.7571090047393364,\n",
       "  'fbeta': 0.8374836173001311,\n",
       "  'log_loss': 0.44342153907769577,\n",
       "  'AUC': 0.8652602715273164}}"
      ]
     },
     "execution_count": 165,
     "metadata": {},
     "output_type": "execute_result"
    }
   ],
   "source": [
    "best_rf_metrics = get_performance_scores(Y_test, y_predict_optimized,y_prob_optimized)\n",
    "results.update({\"Optimized DT\":best_rf_metrics})\n",
    "results"
   ]
  },
  {
   "attachments": {},
   "cell_type": "markdown",
   "metadata": {},
   "source": [
    "## Gradient Boosting"
   ]
  },
  {
   "cell_type": "code",
   "execution_count": 166,
   "metadata": {},
   "outputs": [],
   "source": [
    "# imports from lecture\n",
    "import os\n",
    "import pandas as pd\n",
    "import numpy as np\n",
    "import matplotlib.pyplot as plt\n",
    "import seaborn as sns\n",
    "from pathlib import Path\n",
    "\n",
    "from textwrap import wrap\n",
    "import pickle\n",
    "from sklearn.model_selection import train_test_split\n",
    "from sklearn.neighbors import KNeighborsClassifier\n",
    "from sklearn.preprocessing import scale,StandardScaler\n",
    "from sklearn.pipeline import Pipeline\n",
    "from sklearn.model_selection import cross_val_score\n",
    "from sklearn.model_selection import GridSearchCV\n",
    "import pickle\n",
    "from sklearn.metrics import accuracy_score, classification_report, confusion_matrix, plot_confusion_matrix\n",
    "from sklearn import metrics, preprocessing, linear_model\n",
    "\n",
    "from sklearn.ensemble import RandomForestClassifier\n",
    "from sklearn.ensemble import GradientBoostingClassifier\n",
    "\n",
    "np.random.seed(24)\n",
    "# test dataset = 30%\n",
    "X_train, X_test, y_train, y_test = train_test_split(ex_X, ex_y, test_size = 0.3)"
   ]
  },
  {
   "cell_type": "code",
   "execution_count": 167,
   "metadata": {},
   "outputs": [
    {
     "data": {
      "text/html": [
       "<style>#sk-container-id-5 {color: black;background-color: white;}#sk-container-id-5 pre{padding: 0;}#sk-container-id-5 div.sk-toggleable {background-color: white;}#sk-container-id-5 label.sk-toggleable__label {cursor: pointer;display: block;width: 100%;margin-bottom: 0;padding: 0.3em;box-sizing: border-box;text-align: center;}#sk-container-id-5 label.sk-toggleable__label-arrow:before {content: \"▸\";float: left;margin-right: 0.25em;color: #696969;}#sk-container-id-5 label.sk-toggleable__label-arrow:hover:before {color: black;}#sk-container-id-5 div.sk-estimator:hover label.sk-toggleable__label-arrow:before {color: black;}#sk-container-id-5 div.sk-toggleable__content {max-height: 0;max-width: 0;overflow: hidden;text-align: left;background-color: #f0f8ff;}#sk-container-id-5 div.sk-toggleable__content pre {margin: 0.2em;color: black;border-radius: 0.25em;background-color: #f0f8ff;}#sk-container-id-5 input.sk-toggleable__control:checked~div.sk-toggleable__content {max-height: 200px;max-width: 100%;overflow: auto;}#sk-container-id-5 input.sk-toggleable__control:checked~label.sk-toggleable__label-arrow:before {content: \"▾\";}#sk-container-id-5 div.sk-estimator input.sk-toggleable__control:checked~label.sk-toggleable__label {background-color: #d4ebff;}#sk-container-id-5 div.sk-label input.sk-toggleable__control:checked~label.sk-toggleable__label {background-color: #d4ebff;}#sk-container-id-5 input.sk-hidden--visually {border: 0;clip: rect(1px 1px 1px 1px);clip: rect(1px, 1px, 1px, 1px);height: 1px;margin: -1px;overflow: hidden;padding: 0;position: absolute;width: 1px;}#sk-container-id-5 div.sk-estimator {font-family: monospace;background-color: #f0f8ff;border: 1px dotted black;border-radius: 0.25em;box-sizing: border-box;margin-bottom: 0.5em;}#sk-container-id-5 div.sk-estimator:hover {background-color: #d4ebff;}#sk-container-id-5 div.sk-parallel-item::after {content: \"\";width: 100%;border-bottom: 1px solid gray;flex-grow: 1;}#sk-container-id-5 div.sk-label:hover label.sk-toggleable__label {background-color: #d4ebff;}#sk-container-id-5 div.sk-serial::before {content: \"\";position: absolute;border-left: 1px solid gray;box-sizing: border-box;top: 0;bottom: 0;left: 50%;z-index: 0;}#sk-container-id-5 div.sk-serial {display: flex;flex-direction: column;align-items: center;background-color: white;padding-right: 0.2em;padding-left: 0.2em;position: relative;}#sk-container-id-5 div.sk-item {position: relative;z-index: 1;}#sk-container-id-5 div.sk-parallel {display: flex;align-items: stretch;justify-content: center;background-color: white;position: relative;}#sk-container-id-5 div.sk-item::before, #sk-container-id-5 div.sk-parallel-item::before {content: \"\";position: absolute;border-left: 1px solid gray;box-sizing: border-box;top: 0;bottom: 0;left: 50%;z-index: -1;}#sk-container-id-5 div.sk-parallel-item {display: flex;flex-direction: column;z-index: 1;position: relative;background-color: white;}#sk-container-id-5 div.sk-parallel-item:first-child::after {align-self: flex-end;width: 50%;}#sk-container-id-5 div.sk-parallel-item:last-child::after {align-self: flex-start;width: 50%;}#sk-container-id-5 div.sk-parallel-item:only-child::after {width: 0;}#sk-container-id-5 div.sk-dashed-wrapped {border: 1px dashed gray;margin: 0 0.4em 0.5em 0.4em;box-sizing: border-box;padding-bottom: 0.4em;background-color: white;}#sk-container-id-5 div.sk-label label {font-family: monospace;font-weight: bold;display: inline-block;line-height: 1.2em;}#sk-container-id-5 div.sk-label-container {text-align: center;}#sk-container-id-5 div.sk-container {/* jupyter's `normalize.less` sets `[hidden] { display: none; }` but bootstrap.min.css set `[hidden] { display: none !important; }` so we also need the `!important` here to be able to override the default hidden behavior on the sphinx rendered scikit-learn.org. See: https://github.com/scikit-learn/scikit-learn/issues/21755 */display: inline-block !important;position: relative;}#sk-container-id-5 div.sk-text-repr-fallback {display: none;}</style><div id=\"sk-container-id-5\" class=\"sk-top-container\"><div class=\"sk-text-repr-fallback\"><pre>GradientBoostingClassifier(learning_rate=1, max_depth=1, random_state=1)</pre><b>In a Jupyter environment, please rerun this cell to show the HTML representation or trust the notebook. <br />On GitHub, the HTML representation is unable to render, please try loading this page with nbviewer.org.</b></div><div class=\"sk-container\" hidden><div class=\"sk-item\"><div class=\"sk-estimator sk-toggleable\"><input class=\"sk-toggleable__control sk-hidden--visually\" id=\"sk-estimator-id-13\" type=\"checkbox\" checked><label for=\"sk-estimator-id-13\" class=\"sk-toggleable__label sk-toggleable__label-arrow\">GradientBoostingClassifier</label><div class=\"sk-toggleable__content\"><pre>GradientBoostingClassifier(learning_rate=1, max_depth=1, random_state=1)</pre></div></div></div></div></div>"
      ],
      "text/plain": [
       "GradientBoostingClassifier(learning_rate=1, max_depth=1, random_state=1)"
      ]
     },
     "execution_count": 167,
     "metadata": {},
     "output_type": "execute_result"
    }
   ],
   "source": [
    "# declaring gbm with default values\n",
    "gbm_ex = GradientBoostingClassifier(n_estimators = 100, \n",
    "                                    learning_rate = 1, \n",
    "                                    max_depth = 1,  \n",
    "                                    random_state = 1)\n",
    "\n",
    "\n",
    "gbm_ex.fit(X_train, y_train)"
   ]
  },
  {
   "cell_type": "code",
   "execution_count": 168,
   "metadata": {},
   "outputs": [
    {
     "name": "stdout",
     "output_type": "stream",
     "text": [
      "              precision    recall  f1-score   support\n",
      "\n",
      "           0       0.86      0.87      0.86      1024\n",
      "           1       0.86      0.85      0.85       985\n",
      "\n",
      "    accuracy                           0.86      2009\n",
      "   macro avg       0.86      0.86      0.86      2009\n",
      "weighted avg       0.86      0.86      0.86      2009\n",
      "\n",
      "[[887 137]\n",
      " [148 837]]\n",
      "Test Accuracy:  0.8581383773021404\n"
     ]
    }
   ],
   "source": [
    "predictions = gbm_ex.predict(X_test)\n",
    "\n",
    "ex_target_names = ex_data['hospital_expire_flag'].unique().tolist()\n",
    "ex_target_names = [str(x) for x in ex_target_names]\n",
    "class_report = metrics.classification_report(y_test, \n",
    "                                             predictions, \n",
    "                                             target_names = ex_target_names)\n",
    "print(class_report)\n",
    "\n",
    "conf_matrix_gbm_ex = metrics.confusion_matrix(y_test, predictions)\n",
    "print(conf_matrix_gbm_ex)\n",
    "\n",
    "accuracy_gbm_ex = metrics.accuracy_score(y_test, predictions)\n",
    "print(\"Test Accuracy: \", accuracy_gbm_ex)\n",
    "\n",
    "prob = gbm_ex.predict_proba(X_test)"
   ]
  },
  {
   "cell_type": "code",
   "execution_count": 169,
   "metadata": {},
   "outputs": [
    {
     "data": {
      "text/plain": [
       "{'Vanilla KNN': {'accuracy': 0.8003982080637133,\n",
       "  'precision': 0.8494868871151653,\n",
       "  'recall': 0.7347140039447732,\n",
       "  'f1': 0.7879428873611846,\n",
       "  'fbeta': 0.8237505528527199,\n",
       "  'log_loss': 1.7065391967494796,\n",
       "  'AUC': 0.8647924038337644},\n",
       " 'GridSearchCV KNN': {'accuracy': 0.8063713290194127,\n",
       "  'precision': 0.8689492325855962,\n",
       "  'recall': 0.7258382642998028,\n",
       "  'f1': 0.7909725953788286,\n",
       "  'fbeta': 0.8359836437982735,\n",
       "  'log_loss': 1.7065391967494796,\n",
       "  'AUC': 0.8647924038337644},\n",
       " 'Vanilla Logistic Reg': {'accuracy': 0.8526630164260827,\n",
       "  'precision': 0.8611670020120724,\n",
       "  'recall': 0.8441814595660749,\n",
       "  'f1': 0.852589641434263,\n",
       "  'fbeta': 0.8577154308617235,\n",
       "  'log_loss': 0.37316599970282904,\n",
       "  'AUC': 0.9172588782175177},\n",
       " 'GridSearchCV Logistic Regression': {'accuracy': 0.8541562966650075,\n",
       "  'precision': 0.8623115577889447,\n",
       "  'recall': 0.8461538461538461,\n",
       "  'f1': 0.8541562966650074,\n",
       "  'fbeta': 0.8590308370044053,\n",
       "  'log_loss': 0.3676927050917961,\n",
       "  'AUC': 0.9185196197952286},\n",
       " 'DT': {'accuracy': 0.7999004479840717,\n",
       "  'precision': 0.7917087967644085,\n",
       "  'recall': 0.7997957099080695,\n",
       "  'f1': 0.7957317073170732,\n",
       "  'fbeta': 0.7933130699088147,\n",
       "  'log_loss': 6.911275673382138,\n",
       "  'AUC': 0.7998978549540349},\n",
       " 'Optimized DT': {'accuracy': 0.7959183673469388,\n",
       "  'precision': 0.9012693935119888,\n",
       "  'recall': 0.6527068437180796,\n",
       "  'f1': 0.7571090047393364,\n",
       "  'fbeta': 0.8374836173001311,\n",
       "  'log_loss': 0.44342153907769577,\n",
       "  'AUC': 0.8652602715273164},\n",
       " 'Gradient Boosting': {'accuracy': 0.8581383773021404,\n",
       "  'precision': 0.8593429158110883,\n",
       "  'recall': 0.849746192893401,\n",
       "  'f1': 0.8545176110260336,\n",
       "  'fbeta': 0.8574062692071297,\n",
       "  'log_loss': 0.36900383006690696,\n",
       "  'AUC': 0.9288973270939087}}"
      ]
     },
     "execution_count": 169,
     "metadata": {},
     "output_type": "execute_result"
    }
   ],
   "source": [
    "results.update({\"Gradient Boosting\": get_performance_scores(y_test, predictions, prob)})\n",
    "results"
   ]
  },
  {
   "cell_type": "code",
   "execution_count": 170,
   "metadata": {},
   "outputs": [
    {
     "data": {
      "text/plain": [
       "Text(0.5, 0, 'Relative Importance')"
      ]
     },
     "execution_count": 170,
     "metadata": {},
     "output_type": "execute_result"
    },
    {
     "data": {
      "image/png": "[encoded data removed]",
      "text/plain": [
       "<Figure size 640x480 with 1 Axes>"
      ]
     },
     "metadata": {},
     "output_type": "display_data"
    }
   ],
   "source": [
    "features_ex = ex_X.columns\n",
    "importances_ex = gbm_ex.feature_importances_\n",
    "indices_ex = np.argsort(importances_ex)[::-1]\n",
    "top_indices_ex = indices_ex[0:10][::-1]\n",
    "\n",
    "plt.figure(1)\n",
    "plt.title('Feature Importance of Bank marketing dataset')\n",
    "plt.barh(range(len(top_indices_ex)), importances_ex[top_indices_ex], color = 'b', align = 'center')\n",
    "labels = features_ex[top_indices_ex]\n",
    "labels = [ '\\n'.join(wrap(l,13)) for l in labels ]\n",
    "plt.yticks(range(len(top_indices_ex)), labels)\n",
    "plt.xlabel('Relative Importance')"
   ]
  },
  {
   "attachments": {},
   "cell_type": "markdown",
   "metadata": {},
   "source": [
    "## Optimizing Gradient"
   ]
  },
  {
   "cell_type": "code",
   "execution_count": 178,
   "metadata": {},
   "outputs": [],
   "source": [
    "# imports from lecture\n",
    "import os\n",
    "import pandas as pd\n",
    "import numpy as np\n",
    "import matplotlib.pyplot as plt\n",
    "import seaborn as sns\n",
    "from pathlib import Path\n",
    "import math\n",
    "from textwrap import wrap\n",
    "import pickle\n",
    "from sklearn.model_selection import train_test_split\n",
    "from sklearn.neighbors import KNeighborsClassifier\n",
    "from sklearn.preprocessing import scale,StandardScaler\n",
    "from sklearn.pipeline import Pipeline\n",
    "from sklearn.model_selection import cross_val_score\n",
    "from sklearn.model_selection import GridSearchCV\n",
    "from sklearn.model_selection import RandomizedSearchCV\n",
    "import pickle\n",
    "from sklearn.metrics import accuracy_score, classification_report, confusion_matrix, plot_confusion_matrix\n",
    "from sklearn import metrics, preprocessing, linear_model\n",
    "\n",
    "from sklearn.ensemble import RandomForestClassifier\n",
    "from sklearn.ensemble import GradientBoostingClassifier\n",
    "\n",
    "gbm_ex = GradientBoostingClassifier()\n",
    "\n",
    "n_estimators = [int(x) for x in np.linspace(start = 200, stop = 2000, num = 20)]\n",
    "\n",
    "max_features = ['auto', 'sqrt']\n",
    "\n",
    "max_depth = [int(x) for x in np.linspace(10, 110, num = 11)]\n",
    "max_depth.append(None)\n",
    "\n",
    "min_samples_split = [2, 5, 10]\n",
    "\n",
    "min_samples_leaf = [1, 2, 4]\n",
    "learning_rate = [0.001, 0.01, 0.1, 0.2, 0.3]\n",
    "\n",
    "random_grid_ex = {'n_estimators': n_estimators,\n",
    "                  'max_features': max_features,\n",
    "                  'max_depth': max_depth,\n",
    "                  'min_samples_split': min_samples_split,\n",
    "                  'min_samples_leaf': min_samples_leaf,\n",
    "                  'learning_rate': learning_rate}  "
   ]
  },
  {
   "cell_type": "code",
   "execution_count": 179,
   "metadata": {},
   "outputs": [
    {
     "data": {
      "text/plain": [
       "{'n_estimators': 1052,\n",
       " 'min_samples_split': 2,\n",
       " 'min_samples_leaf': 1,\n",
       " 'max_features': 'sqrt',\n",
       " 'max_depth': 70,\n",
       " 'learning_rate': 0.1}"
      ]
     },
     "execution_count": 179,
     "metadata": {},
     "output_type": "execute_result"
    }
   ],
   "source": [
    "gbm_random_ex = RandomizedSearchCV(estimator = gbm_ex, \n",
    "                                   param_distributions = random_grid_ex, \n",
    "                                   n_iter = 100, \n",
    "                                   cv = 3, \n",
    "                                   verbose = 0, \n",
    "                                   random_state = 1, \n",
    "                                   n_jobs = -1)\n",
    "                                   \n",
    "gbm_random_ex.fit(X_train, Y_train)\n",
    "gbm_random_ex.best_params_"
   ]
  },
  {
   "attachments": {},
   "cell_type": "markdown",
   "metadata": {},
   "source": [
    "## SVM"
   ]
  },
  {
   "cell_type": "code",
   "execution_count": 181,
   "metadata": {},
   "outputs": [],
   "source": [
    "import os\n",
    "import pickle\n",
    "import numpy as np\n",
    "import pandas as pd\n",
    "import matplotlib.pyplot as plt\n",
    "from pathlib import Path\n",
    "from sklearn.model_selection import train_test_split\n",
    "from sklearn.svm import SVC\n",
    "from sklearn import metrics\n",
    "from sklearn.model_selection import GridSearchCV"
   ]
  },
  {
   "cell_type": "code",
   "execution_count": 183,
   "metadata": {},
   "outputs": [],
   "source": [
    "X_train_ex, X_test_ex, y_train_ex, y_test_ex = train_test_split(ex_X, ex_y, test_size = 0.3)"
   ]
  },
  {
   "cell_type": "code",
   "execution_count": 184,
   "metadata": {},
   "outputs": [
    {
     "data": {
      "text/html": [
       "<style>#sk-container-id-7 {color: black;background-color: white;}#sk-container-id-7 pre{padding: 0;}#sk-container-id-7 div.sk-toggleable {background-color: white;}#sk-container-id-7 label.sk-toggleable__label {cursor: pointer;display: block;width: 100%;margin-bottom: 0;padding: 0.3em;box-sizing: border-box;text-align: center;}#sk-container-id-7 label.sk-toggleable__label-arrow:before {content: \"▸\";float: left;margin-right: 0.25em;color: #696969;}#sk-container-id-7 label.sk-toggleable__label-arrow:hover:before {color: black;}#sk-container-id-7 div.sk-estimator:hover label.sk-toggleable__label-arrow:before {color: black;}#sk-container-id-7 div.sk-toggleable__content {max-height: 0;max-width: 0;overflow: hidden;text-align: left;background-color: #f0f8ff;}#sk-container-id-7 div.sk-toggleable__content pre {margin: 0.2em;color: black;border-radius: 0.25em;background-color: #f0f8ff;}#sk-container-id-7 input.sk-toggleable__control:checked~div.sk-toggleable__content {max-height: 200px;max-width: 100%;overflow: auto;}#sk-container-id-7 input.sk-toggleable__control:checked~label.sk-toggleable__label-arrow:before {content: \"▾\";}#sk-container-id-7 div.sk-estimator input.sk-toggleable__control:checked~label.sk-toggleable__label {background-color: #d4ebff;}#sk-container-id-7 div.sk-label input.sk-toggleable__control:checked~label.sk-toggleable__label {background-color: #d4ebff;}#sk-container-id-7 input.sk-hidden--visually {border: 0;clip: rect(1px 1px 1px 1px);clip: rect(1px, 1px, 1px, 1px);height: 1px;margin: -1px;overflow: hidden;padding: 0;position: absolute;width: 1px;}#sk-container-id-7 div.sk-estimator {font-family: monospace;background-color: #f0f8ff;border: 1px dotted black;border-radius: 0.25em;box-sizing: border-box;margin-bottom: 0.5em;}#sk-container-id-7 div.sk-estimator:hover {background-color: #d4ebff;}#sk-container-id-7 div.sk-parallel-item::after {content: \"\";width: 100%;border-bottom: 1px solid gray;flex-grow: 1;}#sk-container-id-7 div.sk-label:hover label.sk-toggleable__label {background-color: #d4ebff;}#sk-container-id-7 div.sk-serial::before {content: \"\";position: absolute;border-left: 1px solid gray;box-sizing: border-box;top: 0;bottom: 0;left: 50%;z-index: 0;}#sk-container-id-7 div.sk-serial {display: flex;flex-direction: column;align-items: center;background-color: white;padding-right: 0.2em;padding-left: 0.2em;position: relative;}#sk-container-id-7 div.sk-item {position: relative;z-index: 1;}#sk-container-id-7 div.sk-parallel {display: flex;align-items: stretch;justify-content: center;background-color: white;position: relative;}#sk-container-id-7 div.sk-item::before, #sk-container-id-7 div.sk-parallel-item::before {content: \"\";position: absolute;border-left: 1px solid gray;box-sizing: border-box;top: 0;bottom: 0;left: 50%;z-index: -1;}#sk-container-id-7 div.sk-parallel-item {display: flex;flex-direction: column;z-index: 1;position: relative;background-color: white;}#sk-container-id-7 div.sk-parallel-item:first-child::after {align-self: flex-end;width: 50%;}#sk-container-id-7 div.sk-parallel-item:last-child::after {align-self: flex-start;width: 50%;}#sk-container-id-7 div.sk-parallel-item:only-child::after {width: 0;}#sk-container-id-7 div.sk-dashed-wrapped {border: 1px dashed gray;margin: 0 0.4em 0.5em 0.4em;box-sizing: border-box;padding-bottom: 0.4em;background-color: white;}#sk-container-id-7 div.sk-label label {font-family: monospace;font-weight: bold;display: inline-block;line-height: 1.2em;}#sk-container-id-7 div.sk-label-container {text-align: center;}#sk-container-id-7 div.sk-container {/* jupyter's `normalize.less` sets `[hidden] { display: none; }` but bootstrap.min.css set `[hidden] { display: none !important; }` so we also need the `!important` here to be able to override the default hidden behavior on the sphinx rendered scikit-learn.org. See: https://github.com/scikit-learn/scikit-learn/issues/21755 */display: inline-block !important;position: relative;}#sk-container-id-7 div.sk-text-repr-fallback {display: none;}</style><div id=\"sk-container-id-7\" class=\"sk-top-container\"><div class=\"sk-text-repr-fallback\"><pre>SVC(gamma=0.011, probability=True)</pre><b>In a Jupyter environment, please rerun this cell to show the HTML representation or trust the notebook. <br />On GitHub, the HTML representation is unable to render, please try loading this page with nbviewer.org.</b></div><div class=\"sk-container\" hidden><div class=\"sk-item\"><div class=\"sk-estimator sk-toggleable\"><input class=\"sk-toggleable__control sk-hidden--visually\" id=\"sk-estimator-id-15\" type=\"checkbox\" checked><label for=\"sk-estimator-id-15\" class=\"sk-toggleable__label sk-toggleable__label-arrow\">SVC</label><div class=\"sk-toggleable__content\"><pre>SVC(gamma=0.011, probability=True)</pre></div></div></div></div></div>"
      ],
      "text/plain": [
       "SVC(gamma=0.011, probability=True)"
      ]
     },
     "execution_count": 184,
     "metadata": {},
     "output_type": "execute_result"
    }
   ],
   "source": [
    "ex_sv_machine = SVC(kernel = 'rbf', gamma = 0.011, probability = True)\n",
    "ex_sv_machine.fit(X_train_ex, y_train_ex)"
   ]
  },
  {
   "cell_type": "code",
   "execution_count": 185,
   "metadata": {},
   "outputs": [
    {
     "name": "stdout",
     "output_type": "stream",
     "text": [
      "[0 1 0 1 1]\n",
      "[[0.88074017 0.11925983]\n",
      " [0.48981663 0.51018337]\n",
      " [0.13620232 0.86379768]\n",
      " ...\n",
      " [0.63160862 0.36839138]\n",
      " [0.73224358 0.26775642]\n",
      " [0.37561227 0.62438773]]\n"
     ]
    }
   ],
   "source": [
    "ex_svm_y_predict = ex_sv_machine.predict(X_test_ex)\n",
    "print(ex_svm_y_predict[:5])\n",
    "\n",
    "ex_svm_y_predict_prob = ex_sv_machine.predict_proba(X_test_ex) \n",
    "print(ex_svm_y_predict_prob[5:])"
   ]
  },
  {
   "cell_type": "code",
   "execution_count": 186,
   "metadata": {},
   "outputs": [
    {
     "name": "stdout",
     "output_type": "stream",
     "text": [
      "{'accuracy': 0.6769537083125934, 'precision': 0.6432, 'recall': 0.7984111221449851, 'f1': 0.7124501550731057, 'fbeta': 0.6692192442150824, 'log_loss': 0.6140760456640786, 'AUC': 0.7320795350708712}\n"
     ]
    }
   ],
   "source": [
    "ex_svm_scores = get_performance_scores(y_test_ex, ex_svm_y_predict, ex_svm_y_predict_prob)\n",
    "print(ex_svm_scores)"
   ]
  },
  {
   "cell_type": "code",
   "execution_count": 187,
   "metadata": {},
   "outputs": [
    {
     "data": {
      "text/html": [
       "<style>#sk-container-id-8 {color: black;background-color: white;}#sk-container-id-8 pre{padding: 0;}#sk-container-id-8 div.sk-toggleable {background-color: white;}#sk-container-id-8 label.sk-toggleable__label {cursor: pointer;display: block;width: 100%;margin-bottom: 0;padding: 0.3em;box-sizing: border-box;text-align: center;}#sk-container-id-8 label.sk-toggleable__label-arrow:before {content: \"▸\";float: left;margin-right: 0.25em;color: #696969;}#sk-container-id-8 label.sk-toggleable__label-arrow:hover:before {color: black;}#sk-container-id-8 div.sk-estimator:hover label.sk-toggleable__label-arrow:before {color: black;}#sk-container-id-8 div.sk-toggleable__content {max-height: 0;max-width: 0;overflow: hidden;text-align: left;background-color: #f0f8ff;}#sk-container-id-8 div.sk-toggleable__content pre {margin: 0.2em;color: black;border-radius: 0.25em;background-color: #f0f8ff;}#sk-container-id-8 input.sk-toggleable__control:checked~div.sk-toggleable__content {max-height: 200px;max-width: 100%;overflow: auto;}#sk-container-id-8 input.sk-toggleable__control:checked~label.sk-toggleable__label-arrow:before {content: \"▾\";}#sk-container-id-8 div.sk-estimator input.sk-toggleable__control:checked~label.sk-toggleable__label {background-color: #d4ebff;}#sk-container-id-8 div.sk-label input.sk-toggleable__control:checked~label.sk-toggleable__label {background-color: #d4ebff;}#sk-container-id-8 input.sk-hidden--visually {border: 0;clip: rect(1px 1px 1px 1px);clip: rect(1px, 1px, 1px, 1px);height: 1px;margin: -1px;overflow: hidden;padding: 0;position: absolute;width: 1px;}#sk-container-id-8 div.sk-estimator {font-family: monospace;background-color: #f0f8ff;border: 1px dotted black;border-radius: 0.25em;box-sizing: border-box;margin-bottom: 0.5em;}#sk-container-id-8 div.sk-estimator:hover {background-color: #d4ebff;}#sk-container-id-8 div.sk-parallel-item::after {content: \"\";width: 100%;border-bottom: 1px solid gray;flex-grow: 1;}#sk-container-id-8 div.sk-label:hover label.sk-toggleable__label {background-color: #d4ebff;}#sk-container-id-8 div.sk-serial::before {content: \"\";position: absolute;border-left: 1px solid gray;box-sizing: border-box;top: 0;bottom: 0;left: 50%;z-index: 0;}#sk-container-id-8 div.sk-serial {display: flex;flex-direction: column;align-items: center;background-color: white;padding-right: 0.2em;padding-left: 0.2em;position: relative;}#sk-container-id-8 div.sk-item {position: relative;z-index: 1;}#sk-container-id-8 div.sk-parallel {display: flex;align-items: stretch;justify-content: center;background-color: white;position: relative;}#sk-container-id-8 div.sk-item::before, #sk-container-id-8 div.sk-parallel-item::before {content: \"\";position: absolute;border-left: 1px solid gray;box-sizing: border-box;top: 0;bottom: 0;left: 50%;z-index: -1;}#sk-container-id-8 div.sk-parallel-item {display: flex;flex-direction: column;z-index: 1;position: relative;background-color: white;}#sk-container-id-8 div.sk-parallel-item:first-child::after {align-self: flex-end;width: 50%;}#sk-container-id-8 div.sk-parallel-item:last-child::after {align-self: flex-start;width: 50%;}#sk-container-id-8 div.sk-parallel-item:only-child::after {width: 0;}#sk-container-id-8 div.sk-dashed-wrapped {border: 1px dashed gray;margin: 0 0.4em 0.5em 0.4em;box-sizing: border-box;padding-bottom: 0.4em;background-color: white;}#sk-container-id-8 div.sk-label label {font-family: monospace;font-weight: bold;display: inline-block;line-height: 1.2em;}#sk-container-id-8 div.sk-label-container {text-align: center;}#sk-container-id-8 div.sk-container {/* jupyter's `normalize.less` sets `[hidden] { display: none; }` but bootstrap.min.css set `[hidden] { display: none !important; }` so we also need the `!important` here to be able to override the default hidden behavior on the sphinx rendered scikit-learn.org. See: https://github.com/scikit-learn/scikit-learn/issues/21755 */display: inline-block !important;position: relative;}#sk-container-id-8 div.sk-text-repr-fallback {display: none;}</style><div id=\"sk-container-id-8\" class=\"sk-top-container\"><div class=\"sk-text-repr-fallback\"><pre>GridSearchCV(cv=5, estimator=SVC(),\n",
       "             param_grid=[{&#x27;C&#x27;: [1, 10, 100, 1000], &#x27;gamma&#x27;: [0.001, 0.0001],\n",
       "                          &#x27;kernel&#x27;: [&#x27;rbf&#x27;]}])</pre><b>In a Jupyter environment, please rerun this cell to show the HTML representation or trust the notebook. <br />On GitHub, the HTML representation is unable to render, please try loading this page with nbviewer.org.</b></div><div class=\"sk-container\" hidden><div class=\"sk-item sk-dashed-wrapped\"><div class=\"sk-label-container\"><div class=\"sk-label sk-toggleable\"><input class=\"sk-toggleable__control sk-hidden--visually\" id=\"sk-estimator-id-16\" type=\"checkbox\" ><label for=\"sk-estimator-id-16\" class=\"sk-toggleable__label sk-toggleable__label-arrow\">GridSearchCV</label><div class=\"sk-toggleable__content\"><pre>GridSearchCV(cv=5, estimator=SVC(),\n",
       "             param_grid=[{&#x27;C&#x27;: [1, 10, 100, 1000], &#x27;gamma&#x27;: [0.001, 0.0001],\n",
       "                          &#x27;kernel&#x27;: [&#x27;rbf&#x27;]}])</pre></div></div></div><div class=\"sk-parallel\"><div class=\"sk-parallel-item\"><div class=\"sk-item\"><div class=\"sk-label-container\"><div class=\"sk-label sk-toggleable\"><input class=\"sk-toggleable__control sk-hidden--visually\" id=\"sk-estimator-id-17\" type=\"checkbox\" ><label for=\"sk-estimator-id-17\" class=\"sk-toggleable__label sk-toggleable__label-arrow\">estimator: SVC</label><div class=\"sk-toggleable__content\"><pre>SVC()</pre></div></div></div><div class=\"sk-serial\"><div class=\"sk-item\"><div class=\"sk-estimator sk-toggleable\"><input class=\"sk-toggleable__control sk-hidden--visually\" id=\"sk-estimator-id-18\" type=\"checkbox\" ><label for=\"sk-estimator-id-18\" class=\"sk-toggleable__label sk-toggleable__label-arrow\">SVC</label><div class=\"sk-toggleable__content\"><pre>SVC()</pre></div></div></div></div></div></div></div></div></div></div>"
      ],
      "text/plain": [
       "GridSearchCV(cv=5, estimator=SVC(),\n",
       "             param_grid=[{'C': [1, 10, 100, 1000], 'gamma': [0.001, 0.0001],\n",
       "                          'kernel': ['rbf']}])"
      ]
     },
     "execution_count": 187,
     "metadata": {},
     "output_type": "execute_result"
    }
   ],
   "source": [
    "ex_tuned_parameters = [{'kernel': ['rbf'], 'gamma': [1e-3, 1e-4], 'C': [1, 10, 100, 1000]}]\n",
    "\n",
    "ex_svm_cv = GridSearchCV(SVC(), ex_tuned_parameters, cv = 5)\n",
    "ex_svm_cv.fit(X_train_ex, y_train_ex)"
   ]
  },
  {
   "cell_type": "code",
   "execution_count": 188,
   "metadata": {},
   "outputs": [
    {
     "name": "stdout",
     "output_type": "stream",
     "text": [
      "{'C': 100, 'gamma': 0.0001, 'kernel': 'rbf'}\n"
     ]
    }
   ],
   "source": [
    "print(ex_svm_cv.best_params_)\n",
    "ex_optmized_c = ex_svm_cv.best_params_['C']\n",
    "ex_optmized_gamma = ex_svm_cv.best_params_['gamma']\n",
    "ex_optmized_kernel = ex_svm_cv.best_params_['kernel']"
   ]
  },
  {
   "cell_type": "code",
   "execution_count": 189,
   "metadata": {},
   "outputs": [
    {
     "data": {
      "text/html": [
       "<style>#sk-container-id-9 {color: black;background-color: white;}#sk-container-id-9 pre{padding: 0;}#sk-container-id-9 div.sk-toggleable {background-color: white;}#sk-container-id-9 label.sk-toggleable__label {cursor: pointer;display: block;width: 100%;margin-bottom: 0;padding: 0.3em;box-sizing: border-box;text-align: center;}#sk-container-id-9 label.sk-toggleable__label-arrow:before {content: \"▸\";float: left;margin-right: 0.25em;color: #696969;}#sk-container-id-9 label.sk-toggleable__label-arrow:hover:before {color: black;}#sk-container-id-9 div.sk-estimator:hover label.sk-toggleable__label-arrow:before {color: black;}#sk-container-id-9 div.sk-toggleable__content {max-height: 0;max-width: 0;overflow: hidden;text-align: left;background-color: #f0f8ff;}#sk-container-id-9 div.sk-toggleable__content pre {margin: 0.2em;color: black;border-radius: 0.25em;background-color: #f0f8ff;}#sk-container-id-9 input.sk-toggleable__control:checked~div.sk-toggleable__content {max-height: 200px;max-width: 100%;overflow: auto;}#sk-container-id-9 input.sk-toggleable__control:checked~label.sk-toggleable__label-arrow:before {content: \"▾\";}#sk-container-id-9 div.sk-estimator input.sk-toggleable__control:checked~label.sk-toggleable__label {background-color: #d4ebff;}#sk-container-id-9 div.sk-label input.sk-toggleable__control:checked~label.sk-toggleable__label {background-color: #d4ebff;}#sk-container-id-9 input.sk-hidden--visually {border: 0;clip: rect(1px 1px 1px 1px);clip: rect(1px, 1px, 1px, 1px);height: 1px;margin: -1px;overflow: hidden;padding: 0;position: absolute;width: 1px;}#sk-container-id-9 div.sk-estimator {font-family: monospace;background-color: #f0f8ff;border: 1px dotted black;border-radius: 0.25em;box-sizing: border-box;margin-bottom: 0.5em;}#sk-container-id-9 div.sk-estimator:hover {background-color: #d4ebff;}#sk-container-id-9 div.sk-parallel-item::after {content: \"\";width: 100%;border-bottom: 1px solid gray;flex-grow: 1;}#sk-container-id-9 div.sk-label:hover label.sk-toggleable__label {background-color: #d4ebff;}#sk-container-id-9 div.sk-serial::before {content: \"\";position: absolute;border-left: 1px solid gray;box-sizing: border-box;top: 0;bottom: 0;left: 50%;z-index: 0;}#sk-container-id-9 div.sk-serial {display: flex;flex-direction: column;align-items: center;background-color: white;padding-right: 0.2em;padding-left: 0.2em;position: relative;}#sk-container-id-9 div.sk-item {position: relative;z-index: 1;}#sk-container-id-9 div.sk-parallel {display: flex;align-items: stretch;justify-content: center;background-color: white;position: relative;}#sk-container-id-9 div.sk-item::before, #sk-container-id-9 div.sk-parallel-item::before {content: \"\";position: absolute;border-left: 1px solid gray;box-sizing: border-box;top: 0;bottom: 0;left: 50%;z-index: -1;}#sk-container-id-9 div.sk-parallel-item {display: flex;flex-direction: column;z-index: 1;position: relative;background-color: white;}#sk-container-id-9 div.sk-parallel-item:first-child::after {align-self: flex-end;width: 50%;}#sk-container-id-9 div.sk-parallel-item:last-child::after {align-self: flex-start;width: 50%;}#sk-container-id-9 div.sk-parallel-item:only-child::after {width: 0;}#sk-container-id-9 div.sk-dashed-wrapped {border: 1px dashed gray;margin: 0 0.4em 0.5em 0.4em;box-sizing: border-box;padding-bottom: 0.4em;background-color: white;}#sk-container-id-9 div.sk-label label {font-family: monospace;font-weight: bold;display: inline-block;line-height: 1.2em;}#sk-container-id-9 div.sk-label-container {text-align: center;}#sk-container-id-9 div.sk-container {/* jupyter's `normalize.less` sets `[hidden] { display: none; }` but bootstrap.min.css set `[hidden] { display: none !important; }` so we also need the `!important` here to be able to override the default hidden behavior on the sphinx rendered scikit-learn.org. See: https://github.com/scikit-learn/scikit-learn/issues/21755 */display: inline-block !important;position: relative;}#sk-container-id-9 div.sk-text-repr-fallback {display: none;}</style><div id=\"sk-container-id-9\" class=\"sk-top-container\"><div class=\"sk-text-repr-fallback\"><pre>SVC(C=100, gamma=0.0001, probability=True)</pre><b>In a Jupyter environment, please rerun this cell to show the HTML representation or trust the notebook. <br />On GitHub, the HTML representation is unable to render, please try loading this page with nbviewer.org.</b></div><div class=\"sk-container\" hidden><div class=\"sk-item\"><div class=\"sk-estimator sk-toggleable\"><input class=\"sk-toggleable__control sk-hidden--visually\" id=\"sk-estimator-id-19\" type=\"checkbox\" checked><label for=\"sk-estimator-id-19\" class=\"sk-toggleable__label sk-toggleable__label-arrow\">SVC</label><div class=\"sk-toggleable__content\"><pre>SVC(C=100, gamma=0.0001, probability=True)</pre></div></div></div></div></div>"
      ],
      "text/plain": [
       "SVC(C=100, gamma=0.0001, probability=True)"
      ]
     },
     "execution_count": 189,
     "metadata": {},
     "output_type": "execute_result"
    }
   ],
   "source": [
    "# running model with best model param values\n",
    "ex_sv_cv_optimized = SVC(kernel = ex_optmized_kernel,\n",
    "                        gamma = ex_optmized_gamma, \n",
    "                        C = ex_optmized_c,\n",
    "                        probability = True)\n",
    "ex_sv_cv_optimized.fit(X_train_ex, y_train_ex)"
   ]
  },
  {
   "cell_type": "code",
   "execution_count": null,
   "metadata": {},
   "outputs": [],
   "source": [
    "# same logic as before to print labels and probability predictions\n",
    "ex_opt_svm_y_predict = ex_sv_cv_optimized.predict(X_test_ex)\n",
    "print(ex_opt_svm_y_predict[:5])\n",
    "\n",
    "ex_opt_svm_y_predict_prob = ex_sv_cv_optimized.predict_proba(X_test_ex) \n",
    "print(ex_opt_svm_y_predict_prob[5:])"
   ]
  },
  {
   "cell_type": "code",
   "execution_count": 190,
   "metadata": {},
   "outputs": [
    {
     "ename": "NameError",
     "evalue": "name 'ex_opt_svm_y_predict' is not defined",
     "output_type": "error",
     "traceback": [
      "\u001b[1;31m---------------------------------------------------------------------------\u001b[0m",
      "\u001b[1;31mNameError\u001b[0m                                 Traceback (most recent call last)",
      "\u001b[1;32mc:\\Users\\jupit\\OneDrive\\Documents\\Booz Allen Hamilton\\TEDS_Capstone\\final_presentation_report.ipynb Cell 84\u001b[0m in \u001b[0;36m<cell line: 1>\u001b[1;34m()\u001b[0m\n\u001b[1;32m----> <a href='vscode-notebook-cell:/c%3A/Users/jupit/OneDrive/Documents/Booz%20Allen%20Hamilton/TEDS_Capstone/final_presentation_report.ipynb#Y161sZmlsZQ%3D%3D?line=0'>1</a>\u001b[0m ex_opt_svm_scores \u001b[39m=\u001b[39m get_performance_scores(y_test_ex, ex_opt_svm_y_predict, ex_opt_svm_y_predict_prob)\n\u001b[0;32m      <a href='vscode-notebook-cell:/c%3A/Users/jupit/OneDrive/Documents/Booz%20Allen%20Hamilton/TEDS_Capstone/final_presentation_report.ipynb#Y161sZmlsZQ%3D%3D?line=1'>2</a>\u001b[0m \u001b[39mprint\u001b[39m(ex_opt_svm_scores)\n",
      "\u001b[1;31mNameError\u001b[0m: name 'ex_opt_svm_y_predict' is not defined"
     ]
    }
   ],
   "source": [
    "ex_opt_svm_scores = get_performance_scores(y_test_ex, ex_opt_svm_y_predict, ex_opt_svm_y_predict_prob)\n",
    "print(ex_opt_svm_scores)"
   ]
  }
 ],
 "metadata": {
  "kernelspec": {
   "display_name": "Python 3.10.0 ('AML')",
   "language": "python",
   "name": "python3"
  },
  "language_info": {
   "codemirror_mode": {
    "name": "ipython",
    "version": 3
   },
   "file_extension": ".py",
   "mimetype": "text/x-python",
   "name": "python",
   "nbconvert_exporter": "python",
   "pygments_lexer": "ipython3",
   "version": "3.10.0"
  },
  "orig_nbformat": 4,
  "vscode": {
   "interpreter": {
    "hash": "a181d2005dfdb47a2bf67524b5fb381c934e5539087e92363523707216b4db69"
   }
  }
 },
 "nbformat": 4,
 "nbformat_minor": 2
}
